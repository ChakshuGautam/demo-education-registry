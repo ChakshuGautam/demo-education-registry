{
 "cells": [
  {
   "cell_type": "code",
   "execution_count": 2,
   "id": "dc3d2384",
   "metadata": {},
   "outputs": [],
   "source": [
    "import requests\n",
    "import random\n",
    "import json"
   ]
  },
  {
   "cell_type": "code",
   "execution_count": 3,
   "id": "f3912238",
   "metadata": {},
   "outputs": [],
   "source": [
    "baseUrl = \"http://localhost:8081/api/v1/\"\n",
    "keycloakUrl = \"http://keycloak:8080\""
   ]
  },
  {
   "cell_type": "markdown",
   "id": "4194d872",
   "metadata": {},
   "source": [
    "# Institute invite"
   ]
  },
  {
   "cell_type": "code",
   "execution_count": 14,
   "id": "1a79ff08",
   "metadata": {},
   "outputs": [],
   "source": [
    "instituteUserId = \"admin36@mailinator.com\"\n",
    "instituteRequestBody = {\n",
    "    \"instituteName\": \"te\",\n",
    "    \"email\": instituteUserId,\n",
    "    \"contactNumber\": \"!23\"\n",
    "}"
   ]
  },
  {
   "cell_type": "code",
   "execution_count": 15,
   "id": "380429d2",
   "metadata": {},
   "outputs": [
    {
     "name": "stdout",
     "output_type": "stream",
     "text": [
      "{\"id\":\"sunbird-rc.registry.invite\",\"ver\":\"1.0\",\"ets\":1647339119860,\"params\":{\"resmsgid\":\"\",\"msgid\":\"8724eccf-98ce-4b08-9511-50827da10e27\",\"err\":\"\",\"status\":\"SUCCESSFUL\",\"errmsg\":\"\"},\"responseCode\":\"OK\",\"result\":{\"Institute\":{\"osid\":\"1-c86017c8-1638-4ea2-a1eb-cc02371211f1\"}}}\n"
     ]
    }
   ],
   "source": [
    "headers = {\n",
    "  'Content-Type': 'application/json'\n",
    "}\n",
    "\n",
    "response = requests.request(\"POST\", baseUrl + \"Institute/invite\", headers=headers, json=instituteRequestBody)\n",
    "\n",
    "print(response.text)\n",
    "assert response.status_code == 200"
   ]
  },
  {
   "cell_type": "markdown",
   "id": "5c3a42c6",
   "metadata": {},
   "source": [
    "# get institute token"
   ]
  },
  {
   "cell_type": "code",
   "execution_count": 16,
   "id": "afe497bd",
   "metadata": {},
   "outputs": [],
   "source": [
    "def getToken(userId):\n",
    "    headers = {\n",
    "        'content-type': 'application/x-www-form-urlencoded',\n",
    "    }\n",
    "\n",
    "    data = {\n",
    "      'client_id': 'registry-frontend',\n",
    "      'username': userId,\n",
    "      'password': 'abcd@1234',\n",
    "      'grant_type': 'password'\n",
    "    }\n",
    "\n",
    "    response = requests.post('%s/auth/realms/sunbird-rc/protocol/openid-connect/token'%(keycloakUrl), headers=headers, data=data)\n",
    "#     print(response.json())\n",
    "#     print(response.status_code)\n",
    "    token = response.json()[\"access_token\"]\n",
    "    return token\n"
   ]
  },
  {
   "cell_type": "code",
   "execution_count": 17,
   "id": "2635238e",
   "metadata": {},
   "outputs": [
    {
     "name": "stdout",
     "output_type": "stream",
     "text": [
      "eyJhbGciOiJSUzI1NiIsInR5cCIgOiAiSldUIiwia2lkIiA6ICJtRTZ0WlFxSWctWHhGaVJPR21ERXZOb2ctR2Y4RklkNkNTaEJqMVQ2Qkc0In0.eyJleHAiOjE2NDczMzk3MjIsImlhdCI6MTY0NzMzOTEyMiwianRpIjoiNzVhMDViOTEtNTgyMy00NDg3LWFjZTQtZmYzYTBjOWY1MTQ4IiwiaXNzIjoiaHR0cDovL2tleWNsb2FrOjgwODAvYXV0aC9yZWFsbXMvc3VuYmlyZC1yYyIsImF1ZCI6ImFjY291bnQiLCJzdWIiOiI4OWZkNTFhOC1lMDU3LTQ5NzgtYTY4ZC1mYjZmNGVlZjE4NGQiLCJ0eXAiOiJCZWFyZXIiLCJhenAiOiJyZWdpc3RyeS1mcm9udGVuZCIsInNlc3Npb25fc3RhdGUiOiI5MjE0YTI1OS1jMTUyLTRkMDktOTA1Mi1jMDcwOTY5NGJjOGQiLCJhY3IiOiIxIiwiYWxsb3dlZC1vcmlnaW5zIjpbImh0dHBzOi8vbG9jYWxob3N0OjQyMDIiLCJodHRwOi8vbG9jYWxob3N0OjQyMDIiLCJodHRwczovL2xvY2FsaG9zdDo0MjAwIiwiaHR0cHM6Ly9uZGVhci54aXYuaW4iLCJodHRwOi8vbG9jYWxob3N0OjQyMDAiLCJodHRwOi8vbmRlYXIueGl2LmluIiwiaHR0cDovLzIwLjE5OC42NC4xMjgiXSwicmVhbG1fYWNjZXNzIjp7InJvbGVzIjpbIm9mZmxpbmVfYWNjZXNzIiwidW1hX2F1dGhvcml6YXRpb24iLCJkZWZhdWx0LXJvbGVzLW5kZWFyIl19LCJyZXNvdXJjZV9hY2Nlc3MiOnsiYWNjb3VudCI6eyJyb2xlcyI6WyJtYW5hZ2UtYWNjb3VudCIsIm1hbmFnZS1hY2NvdW50LWxpbmtzIiwidmlldy1wcm9maWxlIl19fSwic2NvcGUiOiJwcm9maWxlIGVtYWlsIiwiZW1haWxfdmVyaWZpZWQiOmZhbHNlLCJwcmVmZXJyZWRfdXNlcm5hbWUiOiJhZG1pbjM2QG1haWxpbmF0b3IuY29tIiwiZW50aXR5IjpbIkluc3RpdHV0ZSJdLCJlbWFpbCI6ImFkbWluMzZAbWFpbGluYXRvci5jb20ifQ.A9W4Cj6aoEIZj5t3cXCMRdw3Ab3ExR2uaf5udkmtLg9j7iv_ndlbeQGx1KWvF2BsCVvii2H5DDvbgPLPUWdsm7iCt__GPVEq8ZP0WiOzMkeEDyb2-LCSl54QQg9MqkurL18GbtRwQ4d6rpmAVzKOwyBC83asbeeuv57eDADKPkZ9cBpnVd_m-dWzdYgtdqmb_YniWO233PnaFRpsjP0fn-WOFJXsZapioKuUXZ-2jRzsNvDCXVcf-TeZeU95z8UGD3wndLpi8-u0xC4gS9LY9979gWPimElHEidGSHKHEhalX1LAVeckMpw68KSGT5u76cmlLFa0mvNGQu--vm2cHA\n"
     ]
    }
   ],
   "source": [
    "token = getToken(instituteUserId)\n",
    "print(token)"
   ]
  },
  {
   "cell_type": "markdown",
   "id": "e03f92ca",
   "metadata": {},
   "source": [
    "# get institute details"
   ]
  },
  {
   "cell_type": "code",
   "execution_count": 18,
   "id": "6dd13699",
   "metadata": {},
   "outputs": [
    {
     "name": "stdout",
     "output_type": "stream",
     "text": [
      "[{\"osUpdatedAt\":\"2022-03-15T10:12:00.539847Z\",\"osCreatedAt\":\"2022-03-15T10:12:00.539847Z\",\"osUpdatedBy\":\"\",\"contactNumber\":\"!23\",\"osCreatedBy\":\"\",\"osid\":\"1-c86017c8-1638-4ea2-a1eb-cc02371211f1\",\"osOwner\":[\"89fd51a8-e057-4978-a68d-fb6f4eef184d\"],\"email\":\"admin36@mailinator.com\",\"instituteName\":\"te\"}]\n",
      "1-c86017c8-1638-4ea2-a1eb-cc02371211f1\n"
     ]
    }
   ],
   "source": [
    "\n",
    "headers = {\n",
    "  'Content-Type': 'application/json',\n",
    "    'Authorization': 'bearer %s'%token,\n",
    "}\n",
    "\n",
    "response = requests.request(\"GET\", baseUrl + \"Institute\", headers=headers)\n",
    "\n",
    "print(response.text)\n",
    "intituteOsid = response.json()[0][\"osid\"]\n",
    "print(intituteOsid)\n",
    "assert response.status_code == 200\n"
   ]
  },
  {
   "cell_type": "markdown",
   "id": "f927f44f",
   "metadata": {},
   "source": [
    "# Affiliate Institute"
   ]
  },
  {
   "cell_type": "code",
   "execution_count": 19,
   "id": "e2d1cfe8",
   "metadata": {},
   "outputs": [
    {
     "name": "stdout",
     "output_type": "stream",
     "text": [
      "<Response [200]>\n",
      "{'id': 'sunbird-rc.registry.update', 'ver': '1.0', 'ets': 1647339132237, 'params': {'resmsgid': '', 'msgid': '9199f4e7-6626-467c-b2ba-e1f9546d0666', 'err': '', 'status': 'SUCCESSFUL', 'errmsg': ''}, 'responseCode': 'OK'}\n",
      "1-248f58ab-77a2-4faf-afff-d32d4ff322f2\n"
     ]
    }
   ],
   "source": [
    "# add affiliation details\n",
    "headers = {\n",
    "    'content-type': 'application/json',\n",
    "    'authorization': 'bearer %s'%token,\n",
    "}\n",
    "\n",
    "data = \"\"\"{\n",
    "\"affiliation\": [\n",
    "  {\n",
    "    \"medium\": \"English\",\n",
    "    \"board\": \"cbse\",\n",
    "    \"affiliationNumber\":  \"123\",\n",
    "    \"grantYear\": \"2000\",\n",
    "    \"expiryYear\":  \"3001\",\n",
    "    \"classes\": [\"Class XII\"]\n",
    "  }\n",
    "]\n",
    "}\"\"\"\n",
    "# print(data)\n",
    "response = requests.put('%sInstitute/%s'%(baseUrl, intituteOsid), headers=headers, data=data)\n",
    "print(response)\n",
    "print(response.json())\n",
    "assert response.status_code == 200\n",
    "\n",
    "\n",
    "# get institute details\n",
    "headers = {\n",
    "  'Content-Type': 'application/json',\n",
    "    'Authorization': 'bearer %s'%token,\n",
    "}\n",
    "\n",
    "response = requests.request(\"GET\", baseUrl + \"Institute\", headers=headers)\n",
    "\n",
    "# print(response.text)\n",
    "intituteAffiliateOsid = response.json()[0][\"affiliation\"][0][\"osid\"]\n",
    "print(intituteAffiliateOsid)\n",
    "assert response.status_code == 200\n"
   ]
  },
  {
   "cell_type": "code",
   "execution_count": 20,
   "id": "31c1a78a",
   "metadata": {},
   "outputs": [
    {
     "name": "stdout",
     "output_type": "stream",
     "text": [
      "200\n",
      "{'id': 'sunbird-rc.registry.send', 'ver': '1.0', 'ets': 1647339133313, 'params': {'resmsgid': '', 'msgid': 'f0fef9d7-86c8-43c6-9e7c-f78591157e2b', 'err': '', 'status': 'SUCCESSFUL', 'errmsg': ''}, 'responseCode': 'OK', 'result': {'attestationOSID': '1-3c44ecbf-ae0c-45a2-a54f-8f4673424762'}}\n"
     ]
    }
   ],
   "source": [
    "# raise attestation request\n",
    "headers = {\n",
    "    'content-type': 'application/json',\n",
    "    'authorization': 'bearer %s'%token,\n",
    "}\n",
    "\n",
    "params = (\n",
    "    ('send', 'true'),\n",
    ")\n",
    "\n",
    "data = {\n",
    "    \"entityName\":\"Institute\",\n",
    "    \"entityId\":\"%s\"%intituteOsid,\n",
    "    \"name\":\"instituteAffiliation\",\n",
    "    \"propertiesOSID\": {\n",
    "        \"affiliation\": [intituteAffiliateOsid]\n",
    "    }\n",
    "}\n",
    "response = requests.put(baseUrl+'send', headers=headers, params=params, json=data)\n",
    "print(response.status_code)\n",
    "response.json()\n",
    "assert response.status_code == 200\n",
    "print(response.json())\n",
    "assert response.json()[\"params\"][\"status\"] == \"SUCCESSFUL\""
   ]
  },
  {
   "cell_type": "markdown",
   "id": "ca3f2d1c",
   "metadata": {},
   "source": [
    "# cbse board attest claims"
   ]
  },
  {
   "cell_type": "code",
   "execution_count": 21,
   "id": "730e0879",
   "metadata": {},
   "outputs": [
    {
     "name": "stdout",
     "output_type": "stream",
     "text": [
      "<Response [200]>\n",
      "CLOSED\n",
      "CLOSED\n",
      "CLOSED\n",
      "CLOSED\n",
      "CLOSED\n",
      "CLOSED\n",
      "CLOSED\n",
      "CLOSED\n",
      "CLOSED\n",
      "CLOSED\n",
      "CLOSED\n",
      "CLOSED\n",
      "CLOSED\n",
      "OPEN\n",
      "de2a0593-e24e-4f2a-a519-386b848d20a9\n",
      "<Response [200]>\n",
      "{'resmsgid': '', 'msgid': 'bb33666f-e379-460c-8720-b7b7fb7735ec', 'err': '', 'status': 'SUCCESSFUL', 'errmsg': ''}\n"
     ]
    }
   ],
   "source": [
    "# get claims for cbse board\n",
    "# create user manually and attach board-cbse role\n",
    "boardUserId = \"cbse-admin\"\n",
    "boardToken = getToken(boardUserId)\n",
    "# print(boardToken)\n",
    "headers = {\n",
    "  'Content-Type': 'application/json',\n",
    "    'Authorization': 'bearer %s'%boardToken,\n",
    "}\n",
    "\n",
    "response = requests.request(\"GET\", baseUrl + \"board-cbse/claims\", headers=headers)\n",
    "assert response.status_code == 200\n",
    "print(response)\n",
    "\n",
    "# Attesting the claim as GRANT\n",
    "data = {\n",
    "    \"action\":\"GRANT_CLAIM\",\n",
    "}\n",
    "# print(response.json())\n",
    "attestingClaimId = None\n",
    "for claim in response.json():\n",
    "#     print(claim)\n",
    "    print(claim[\"status\"])\n",
    "    if claim[\"status\"] == \"OPEN\":\n",
    "        attestingClaimId = claim[\"id\"]\n",
    "        print(claim[\"id\"])\n",
    "        attestResp = requests.request(\"POST\", \"%sboard-cbse/claims/%s/attest\" %(baseUrl, claim[\"id\"]), headers=headers, json=data)\n",
    "        assert response.status_code == 200\n",
    "        print(attestResp)\n",
    "        print(attestResp.json())\n",
    "        break\n",
    "assert attestingClaimId != None\n",
    "\n",
    "# intituteAffiliateOsid = response.json()[0][\"affiliation\"][0][\"osid\"]\n",
    "# print(intituteAffiliateOsid)\n",
    "\n",
    "import time\n",
    "time.sleep(5)\n",
    "# verify attestation status\n",
    "headers = {\n",
    "  'Content-Type': 'application/json',\n",
    "    'Authorization': 'bearer %s'%token,\n",
    "}\n",
    "\n",
    "response = requests.request(\"GET\", baseUrl + \"Institute\", headers=headers)\n",
    "\n",
    "# print(response.text)\n",
    "for affiliation in response.json()[0][\"instituteAffiliation\"]:\n",
    "        if affiliation[\"_osClaimId\"] == attestingClaimId:\n",
    "            assert affiliation[\"_osState\"] == \"PUBLISHED\""
   ]
  },
  {
   "cell_type": "code",
   "execution_count": 22,
   "id": "63b8aa77",
   "metadata": {},
   "outputs": [
    {
     "name": "stdout",
     "output_type": "stream",
     "text": [
      "[{\"osUpdatedAt\":\"2022-03-15T10:12:15.508669Z\",\"osCreatedAt\":\"2022-03-15T10:12:00.539847Z\",\"osUpdatedBy\":\"\",\"affiliation\":[{\"osUpdatedAt\":\"2022-03-15T10:12:15.508669Z\",\"grantYear\":\"2000\",\"osUpdatedBy\":\"\",\"classes\":[\"Class XII\"],\"affiliationNumber\":\"123\",\"expiryYear\":\"3001\",\"medium\":\"English\",\"osid\":\"1-248f58ab-77a2-4faf-afff-d32d4ff322f2\",\"board\":\"cbse\"}],\"contactNumber\":\"!23\",\"osCreatedBy\":\"\",\"instituteAffiliation\":[{\"osUpdatedAt\":\"2022-03-15T10:12:15.508669Z\",\"osUpdatedBy\":\"\",\"_osState\":\"PUBLISHED\",\"entityId\":\"1-c86017c8-1638-4ea2-a1eb-cc02371211f1\",\"osid\":\"1-3c44ecbf-ae0c-45a2-a54f-8f4673424762\",\"propertiesOSID\":{\"osid\":\"1-1d0f5d50-5411-4cb4-bb29-0eb603b91d23\",\"osUpdatedAt\":\"2022-03-15T10:12:13.480929Z\",\"affiliation\":[\"1-248f58ab-77a2-4faf-afff-d32d4ff322f2\"],\"osUpdatedBy\":\"89fd51a8-e057-4978-a68d-fb6f4eef184d\"},\"propertyData\":\"{\\\"affiliation\\\":[{\\\"osUpdatedAt\\\":\\\"2022-03-15T10:12:12.461819Z\\\",\\\"grantYear\\\":\\\"2000\\\",\\\"osUpdatedBy\\\":\\\"89fd51a8-e057-4978-a68d-fb6f4eef184d\\\",\\\"classes\\\":[\\\"Class XII\\\"],\\\"affiliationNumber\\\":\\\"123\\\",\\\"expiryYear\\\":\\\"3001\\\",\\\"medium\\\":\\\"English\\\",\\\"osid\\\":\\\"1-248f58ab-77a2-4faf-afff-d32d4ff322f2\\\",\\\"board\\\":\\\"cbse\\\"}],\\\"instituteName\\\":\\\"te\\\"}\",\"entityName\":\"Institute\",\"name\":\"instituteAffiliation\",\"_osAttestedData\":\"{\\\"affiliation\\\":[{\\\"osUpdatedAt\\\":\\\"2022-03-15T10:12:12.461819Z\\\",\\\"grantYear\\\":\\\"2000\\\",\\\"osUpdatedBy\\\":\\\"89fd51a8-e057-4978-a68d-fb6f4eef184d\\\",\\\"classes\\\":[\\\"Class XII\\\"],\\\"affiliationNumber\\\":\\\"123\\\",\\\"expiryYear\\\":\\\"3001\\\",\\\"medium\\\":\\\"English\\\",\\\"osid\\\":\\\"1-248f58ab-77a2-4faf-afff-d32d4ff322f2\\\",\\\"board\\\":\\\"cbse\\\"}],\\\"instituteName\\\":\\\"te\\\"}\",\"_osClaimId\":\"de2a0593-e24e-4f2a-a519-386b848d20a9\"}],\"osid\":\"1-c86017c8-1638-4ea2-a1eb-cc02371211f1\",\"osOwner\":[\"89fd51a8-e057-4978-a68d-fb6f4eef184d\"],\"email\":\"admin36@mailinator.com\",\"instituteName\":\"te\"}]\n"
     ]
    }
   ],
   "source": [
    "# get institute details\n",
    "headers = {\n",
    "  'Content-Type': 'application/json',\n",
    "    'Authorization': 'bearer %s'%token,\n",
    "}\n",
    "\n",
    "response = requests.request(\"GET\", baseUrl + \"Institute\", headers=headers)\n",
    "\n",
    "print(response.text)\n",
    "for affiliation in response.json()[0][\"instituteAffiliation\"]:\n",
    "        if affiliation[\"_osClaimId\"] == attestingClaimId:\n",
    "            assert affiliation[\"_osState\"] == \"PUBLISHED\""
   ]
  },
  {
   "cell_type": "markdown",
   "id": "f71c466c",
   "metadata": {},
   "source": [
    "# Teacher attestations\n"
   ]
  },
  {
   "cell_type": "code",
   "execution_count": 107,
   "id": "c9c84d59",
   "metadata": {},
   "outputs": [
    {
     "name": "stdout",
     "output_type": "stream",
     "text": [
      "{\"id\":\"sunbird-rc.registry.invite\",\"ver\":\"1.0\",\"ets\":1647346991285,\"params\":{\"resmsgid\":\"\",\"msgid\":\"a75d0236-cf17-498b-a41b-6ee3810c6ad5\",\"err\":\"\",\"status\":\"UNSUCCESSFUL\",\"errmsg\":\"Username already invited / registered for Institute\"},\"responseCode\":\"OK\"}\n"
     ]
    },
    {
     "ename": "AssertionError",
     "evalue": "",
     "output_type": "error",
     "traceback": [
      "\u001b[0;31m---------------------------------------------------------------------------\u001b[0m",
      "\u001b[0;31mAssertionError\u001b[0m                            Traceback (most recent call last)",
      "\u001b[0;32m/var/folders/1c/_2dh0xbx1k9fzwx2pwfhgxrr0000gn/T/ipykernel_31904/3842529591.py\u001b[0m in \u001b[0;36m<module>\u001b[0;34m\u001b[0m\n\u001b[1;32m     14\u001b[0m \u001b[0;34m\u001b[0m\u001b[0m\n\u001b[1;32m     15\u001b[0m \u001b[0mprint\u001b[0m\u001b[0;34m(\u001b[0m\u001b[0mresponse\u001b[0m\u001b[0;34m.\u001b[0m\u001b[0mtext\u001b[0m\u001b[0;34m)\u001b[0m\u001b[0;34m\u001b[0m\u001b[0;34m\u001b[0m\u001b[0m\n\u001b[0;32m---> 16\u001b[0;31m \u001b[0;32massert\u001b[0m \u001b[0mresponse\u001b[0m\u001b[0;34m.\u001b[0m\u001b[0mstatus_code\u001b[0m \u001b[0;34m==\u001b[0m \u001b[0;36m200\u001b[0m\u001b[0;34m\u001b[0m\u001b[0;34m\u001b[0m\u001b[0m\n\u001b[0m\u001b[1;32m     17\u001b[0m \u001b[0;34m\u001b[0m\u001b[0m\n\u001b[1;32m     18\u001b[0m instituteRequestBody = {\n",
      "\u001b[0;31mAssertionError\u001b[0m: "
     ]
    }
   ],
   "source": [
    "# create new institutions\n",
    "institute1 = \"ABC1@mailinator.com\"\n",
    "institute2 = \"XYZ1@mailinator.com\"\n",
    "instituteRequestBody = {\n",
    "    \"instituteName\": \"ABC\",\n",
    "    \"email\": institute1,\n",
    "    \"contactNumber\": \"ABC1\"\n",
    "}\n",
    "headers = {\n",
    "  'Content-Type': 'application/json'\n",
    "}\n",
    "\n",
    "response = requests.request(\"POST\", baseUrl + \"Institute/invite\", headers=headers, json=instituteRequestBody)\n",
    "\n",
    "print(response.text)\n",
    "assert response.status_code == 200\n",
    "\n",
    "instituteRequestBody = {\n",
    "    \"instituteName\": \"XYZ\",\n",
    "    \"email\": institute2,\n",
    "    \"contactNumber\": \"XYZ1\"\n",
    "}\n",
    "headers = {\n",
    "  'Content-Type': 'application/json'\n",
    "}\n",
    "\n",
    "response = requests.request(\"POST\", baseUrl + \"Institute/invite\", headers=headers, json=instituteRequestBody)\n",
    "\n",
    "print(response.text)\n",
    "assert response.status_code == 200"
   ]
  },
  {
   "cell_type": "code",
   "execution_count": 108,
   "id": "d3156938",
   "metadata": {},
   "outputs": [
    {
     "name": "stdout",
     "output_type": "stream",
     "text": [
      "{\"id\":\"sunbird-rc.registry.invite\",\"ver\":\"1.0\",\"ets\":1647346998867,\"params\":{\"resmsgid\":\"\",\"msgid\":\"f8a9fb4f-83f4-4cc5-94bf-6fa1ad2f6006\",\"err\":\"\",\"status\":\"SUCCESSFUL\",\"errmsg\":\"\"},\"responseCode\":\"OK\",\"result\":{\"Teacher\":{\"osid\":\"1-eff29030-00a3-48cf-877f-a13244ed1fc2\"}}}\n"
     ]
    }
   ],
   "source": [
    "# create teacher\n",
    "teacherUserId = \"t7\"\n",
    "teacherRequestBody = {\n",
    "  \"identityDetails\": {\n",
    "    \"fullName\": \"teacher1\",\n",
    "    \"gender\": \"Male\",\n",
    "    \"dob\": \"1995-10-28\",\n",
    "    \"identityHolder\": {\n",
    "      \"AADHAAR\": \"123412323\"\n",
    "    }\n",
    "  },\n",
    "  \"contactDetails\": {\n",
    "    \"email\": \"%s@g.com\"%teacherUserId,\n",
    "    \"mobile\": teacherUserId\n",
    "  },\n",
    "  \"academicQualifications\": [\n",
    "    {\n",
    "      \"instituteOSID\": \"1-0e343abd-c710-45a3-a240-e5d8f30ae2d2\",\n",
    "      \"instituteName\": \"ABC\"\n",
    "    }\n",
    "  ],\n",
    "  \"experience\": [\n",
    "    {\n",
    "      \"instituteOSID\": \"1-a140c49c-3575-471c-9e6c-e079fe920349\",\n",
    "      \"instituteName\": \"XYZ\"\n",
    "    }\n",
    "  ]\n",
    "}\n",
    "headers = {\n",
    "  'Content-Type': 'application/json'\n",
    "}\n",
    "\n",
    "response = requests.request(\"POST\", baseUrl + \"Teacher/invite\", headers=headers, json=teacherRequestBody)\n",
    "\n",
    "print(response.text)\n",
    "assert response.status_code == 200\n",
    "teacherOsid = response.json()[\"result\"][\"Teacher\"][\"osid\"]"
   ]
  },
  {
   "cell_type": "code",
   "execution_count": 109,
   "id": "d9bf7bc7",
   "metadata": {},
   "outputs": [
    {
     "name": "stdout",
     "output_type": "stream",
     "text": [
      "eyJhbGciOiJSUzI1NiIsInR5cCIgOiAiSldUIiwia2lkIiA6ICJtRTZ0WlFxSWctWHhGaVJPR21ERXZOb2ctR2Y4RklkNkNTaEJqMVQ2Qkc0In0.eyJleHAiOjE2NDczNDc2MDAsImlhdCI6MTY0NzM0NzAwMCwianRpIjoiNmM1ZjgxZGQtMTljOS00OWQ2LTk2OWUtMjA3OTc4Mjk2MDNlIiwiaXNzIjoiaHR0cDovL2tleWNsb2FrOjgwODAvYXV0aC9yZWFsbXMvc3VuYmlyZC1yYyIsImF1ZCI6ImFjY291bnQiLCJzdWIiOiI0ZmJlODAwNS0xNjdkLTQyOTYtODdjMS0wNTNmN2ViN2I5ZTciLCJ0eXAiOiJCZWFyZXIiLCJhenAiOiJyZWdpc3RyeS1mcm9udGVuZCIsInNlc3Npb25fc3RhdGUiOiIzNWU0NjM0NS1iZTUzLTQzNTUtODlmZi1kNTNmYWEzNDI3MDQiLCJhY3IiOiIxIiwiYWxsb3dlZC1vcmlnaW5zIjpbImh0dHBzOi8vbG9jYWxob3N0OjQyMDIiLCJodHRwOi8vbG9jYWxob3N0OjQyMDIiLCJodHRwczovL2xvY2FsaG9zdDo0MjAwIiwiaHR0cHM6Ly9uZGVhci54aXYuaW4iLCJodHRwOi8vbG9jYWxob3N0OjQyMDAiLCJodHRwOi8vbmRlYXIueGl2LmluIiwiaHR0cDovLzIwLjE5OC42NC4xMjgiXSwicmVhbG1fYWNjZXNzIjp7InJvbGVzIjpbIm9mZmxpbmVfYWNjZXNzIiwidW1hX2F1dGhvcml6YXRpb24iLCJkZWZhdWx0LXJvbGVzLW5kZWFyIl19LCJyZXNvdXJjZV9hY2Nlc3MiOnsiYWNjb3VudCI6eyJyb2xlcyI6WyJtYW5hZ2UtYWNjb3VudCIsIm1hbmFnZS1hY2NvdW50LWxpbmtzIiwidmlldy1wcm9maWxlIl19fSwic2NvcGUiOiJwcm9maWxlIGVtYWlsIiwiZW1haWxfdmVyaWZpZWQiOmZhbHNlLCJwcmVmZXJyZWRfdXNlcm5hbWUiOiJ0NyIsImVudGl0eSI6WyJUZWFjaGVyIl0sImVtYWlsIjoidDdAZy5jb20ifQ.pyfe0fNmDLhme2EyV4k8BTXCk7CL16KSABMj-zQcI_5vYtxBHMMQeIjqIh2TFClwp77ibTFEMV9K3J-bQcjzskHh7InG0nSQtqjf-b37cUagWrcDHp2zEisRXV785LBt_zmalDIJAZIzDPGoqruwig4-eFUvSy-rQRduYrqpA9KxxjijIcc67sQB4DisAHkhORobGH2jF3V-LgD8AOhj-hCkI-BFbg99XZNQ_Odb3qJtdg9-3kJdeERqGrSOiaZ5Y287qW8G5Z5aFVELaxR78tS30ploFIhVBmiREO3dSE-96hL7xoX2mh4FwPX8QP8-Yaz3Vsp9E40kfLqbZoaq_w\n"
     ]
    }
   ],
   "source": [
    "teacherToken = getToken(teacherUserId)\n",
    "print(teacherToken)"
   ]
  },
  {
   "cell_type": "code",
   "execution_count": 110,
   "id": "aeabd00a",
   "metadata": {},
   "outputs": [
    {
     "name": "stdout",
     "output_type": "stream",
     "text": [
      "[{\"osUpdatedAt\":\"2022-03-15T12:23:18.989017Z\",\"academicQualifications\":[{\"osUpdatedAt\":\"2022-03-15T12:23:18.989017Z\",\"osCreatedAt\":\"2022-03-15T12:23:18.989017Z\",\"osUpdatedBy\":\"\",\"osCreatedBy\":\"\",\"instituteOSID\":\"1-0e343abd-c710-45a3-a240-e5d8f30ae2d2\",\"osid\":\"1-ad81ff95-eb57-4b90-998c-5306a3251b7d\",\"instituteName\":\"ABC\"}],\"osCreatedAt\":\"2022-03-15T12:23:18.989017Z\",\"osUpdatedBy\":\"\",\"contactDetails\":{\"osid\":\"1-ac11307d-18eb-413c-9670-18a45a7da924\",\"osUpdatedAt\":\"2022-03-15T12:23:18.989017Z\",\"osCreatedAt\":\"2022-03-15T12:23:18.989017Z\",\"osUpdatedBy\":\"\",\"mobile\":\"t7\",\"osCreatedBy\":\"\",\"email\":\"t7@g.com\"},\"osCreatedBy\":\"\",\"experience\":[{\"osUpdatedAt\":\"2022-03-15T12:23:18.989017Z\",\"osCreatedAt\":\"2022-03-15T12:23:18.989017Z\",\"osUpdatedBy\":\"\",\"osCreatedBy\":\"\",\"osid\":\"1-0e225961-c800-4096-afc4-bdedbb9cbdda\",\"instituteOSID\":\"1-a140c49c-3575-471c-9e6c-e079fe920349\",\"instituteName\":\"XYZ\"}],\"osid\":\"1-eff29030-00a3-48cf-877f-a13244ed1fc2\",\"osOwner\":[\"4fbe8005-167d-4296-87c1-053f7eb7b9e7\"],\"identityDetails\":{\"osid\":\"1-e9d59f1c-b4d1-4f68-9cd6-c9ae83347a4a\",\"identityHolder\":{\"osid\":\"1-90bfecd1-85b4-4605-ab6d-55e31c4245a9\",\"osUpdatedAt\":\"2022-03-15T12:23:18.989017Z\",\"osCreatedAt\":\"2022-03-15T12:23:18.989017Z\",\"osUpdatedBy\":\"\",\"osCreatedBy\":\"\",\"AADHAAR\":\"123412323\"},\"osUpdatedAt\":\"2022-03-15T12:23:18.989017Z\",\"osCreatedAt\":\"2022-03-15T12:23:18.989017Z\",\"gender\":\"Male\",\"osUpdatedBy\":\"\",\"dob\":\"1995-10-28\",\"osCreatedBy\":\"\",\"fullName\":\"teacher1\"}}]\n",
      "1-0e225961-c800-4096-afc4-bdedbb9cbdda\n",
      "1-ad81ff95-eb57-4b90-998c-5306a3251b7d\n"
     ]
    }
   ],
   "source": [
    "# get teacher details\n",
    "headers = {\n",
    "  'Content-Type': 'application/json',\n",
    "    'Authorization': 'bearer %s'%teacherToken,\n",
    "}\n",
    "\n",
    "response = requests.request(\"GET\", baseUrl + \"Teacher\", headers=headers)\n",
    "\n",
    "print(response.text)\n",
    "assert response.status_code == 200\n",
    "teacherEntity = response.json()[0]\n",
    "print(teacherEntity[\"experience\"][0][\"osid\"])\n",
    "experienceOsid = teacherEntity[\"experience\"][0][\"osid\"]\n",
    "print(teacherEntity[\"academicQualifications\"][0][\"osid\"])\n",
    "qualificationOsid = teacherEntity[\"academicQualifications\"][0][\"osid\"]"
   ]
  },
  {
   "cell_type": "markdown",
   "id": "0843d3d0",
   "metadata": {},
   "source": [
    "# raise teacher's education attestation"
   ]
  },
  {
   "cell_type": "code",
   "execution_count": null,
   "id": "91370c50",
   "metadata": {},
   "outputs": [],
   "source": []
  },
  {
   "cell_type": "code",
   "execution_count": 111,
   "id": "5befaa8f",
   "metadata": {},
   "outputs": [
    {
     "name": "stdout",
     "output_type": "stream",
     "text": [
      "200\n",
      "{'id': 'sunbird-rc.registry.send', 'ver': '1.0', 'ets': 1647347006133, 'params': {'resmsgid': '', 'msgid': '4ee5a6e3-da2e-4731-b86d-0d2d0c2a4f61', 'err': '', 'status': 'SUCCESSFUL', 'errmsg': ''}, 'responseCode': 'OK', 'result': {'attestationOSID': '1-be25e98c-a731-4c47-803b-32734442a389'}}\n"
     ]
    }
   ],
   "source": [
    "# raise attestation request\n",
    "headers = {\n",
    "    'content-type': 'application/json',\n",
    "    'authorization': 'bearer %s'%teacherToken,\n",
    "}\n",
    "\n",
    "data = {\n",
    "    \"entityName\":\"Teacher\",\n",
    "    \"entityId\":\"%s\"%teacherOsid,\n",
    "    \"name\":\"teacherExperience\",\n",
    "    \"propertiesOSID\": {\n",
    "        \"experience\": [experienceOsid]\n",
    "    }\n",
    "}\n",
    "response = requests.put(baseUrl+'send', headers=headers, json=data)\n",
    "print(response.status_code)\n",
    "response.json()\n",
    "assert response.status_code == 200\n",
    "print(response.json())\n",
    "assert response.json()[\"params\"][\"status\"] == \"SUCCESSFUL\""
   ]
  },
  {
   "cell_type": "code",
   "execution_count": 112,
   "id": "5a219b6b",
   "metadata": {},
   "outputs": [
    {
     "name": "stdout",
     "output_type": "stream",
     "text": [
      "eyJhbGciOiJSUzI1NiIsInR5cCIgOiAiSldUIiwia2lkIiA6ICJtRTZ0WlFxSWctWHhGaVJPR21ERXZOb2ctR2Y4RklkNkNTaEJqMVQ2Qkc0In0.eyJleHAiOjE2NDczNDc2MDcsImlhdCI6MTY0NzM0NzAwNywianRpIjoiZGQ0MzdlYjItZTM5Mi00ZTM0LTkzNTYtYjEzM2QyNzI4NmQ4IiwiaXNzIjoiaHR0cDovL2tleWNsb2FrOjgwODAvYXV0aC9yZWFsbXMvc3VuYmlyZC1yYyIsImF1ZCI6ImFjY291bnQiLCJzdWIiOiJhNDM3ZDQwMi1lNWFiLTQ3M2QtYWZjZi04MDZhMDBjNjY1MzIiLCJ0eXAiOiJCZWFyZXIiLCJhenAiOiJyZWdpc3RyeS1mcm9udGVuZCIsInNlc3Npb25fc3RhdGUiOiI4ODUyMzQzZC0yMTg2LTQ0ODEtYWRiMS04NGFjMTU5ZTY5NjAiLCJhY3IiOiIxIiwiYWxsb3dlZC1vcmlnaW5zIjpbImh0dHBzOi8vbG9jYWxob3N0OjQyMDIiLCJodHRwOi8vbG9jYWxob3N0OjQyMDIiLCJodHRwczovL2xvY2FsaG9zdDo0MjAwIiwiaHR0cHM6Ly9uZGVhci54aXYuaW4iLCJodHRwOi8vbG9jYWxob3N0OjQyMDAiLCJodHRwOi8vbmRlYXIueGl2LmluIiwiaHR0cDovLzIwLjE5OC42NC4xMjgiXSwicmVhbG1fYWNjZXNzIjp7InJvbGVzIjpbIm9mZmxpbmVfYWNjZXNzIiwidW1hX2F1dGhvcml6YXRpb24iLCJkZWZhdWx0LXJvbGVzLW5kZWFyIl19LCJyZXNvdXJjZV9hY2Nlc3MiOnsiYWNjb3VudCI6eyJyb2xlcyI6WyJtYW5hZ2UtYWNjb3VudCIsIm1hbmFnZS1hY2NvdW50LWxpbmtzIiwidmlldy1wcm9maWxlIl19fSwic2NvcGUiOiJwcm9maWxlIGVtYWlsIiwiZW1haWxfdmVyaWZpZWQiOmZhbHNlLCJwcmVmZXJyZWRfdXNlcm5hbWUiOiJhYmMxQG1haWxpbmF0b3IuY29tIiwiZW50aXR5IjpbIkluc3RpdHV0ZSJdLCJlbWFpbCI6ImFiYzFAbWFpbGluYXRvci5jb20ifQ.RWiydxIbJC-tiPNMMP_qiYr2UfoJ3pLw5DvYhYOWrHB4ymAhEO-3Cn7l1kAFC8suhA8vL4U0xno6Re_1GJ0W7J7g63SiEC92FDoL5BV3uNOEucGmZMLaW9Z_uP8OO73zyf2M_gAU_fIUnjR3G88SDMcgKYcX2wMzCseJIlmt96JZ2-WxkuXHM3VNh6nbOij7PEc-fifaJCTkVhB4Ly5q6Cjmp2kavtdD1lYudNwKko1j8NJxVO8w6uPaF-0ZXd4PAQGtpEhAYrCzUIymyrC1niZtkQcmsu2hoe8A_tEPBFNbJFFlC2q0qbQAln6F0JHJTK84RLANILctXFz05sNfkQ\n",
      "eyJhbGciOiJSUzI1NiIsInR5cCIgOiAiSldUIiwia2lkIiA6ICJtRTZ0WlFxSWctWHhGaVJPR21ERXZOb2ctR2Y4RklkNkNTaEJqMVQ2Qkc0In0.eyJleHAiOjE2NDczNDc2MDcsImlhdCI6MTY0NzM0NzAwNywianRpIjoiZWFlYzM4MzMtOTBkOC00NzJkLTgzOWEtMGY0OTRhYTIxZjU2IiwiaXNzIjoiaHR0cDovL2tleWNsb2FrOjgwODAvYXV0aC9yZWFsbXMvc3VuYmlyZC1yYyIsImF1ZCI6ImFjY291bnQiLCJzdWIiOiJkYjJhNWM5NC03YTk3LTRiNDctYmZmNC0yZDU5M2RhMDQ0YmEiLCJ0eXAiOiJCZWFyZXIiLCJhenAiOiJyZWdpc3RyeS1mcm9udGVuZCIsInNlc3Npb25fc3RhdGUiOiI1YjE4NTc0MS0yNzBhLTQzZGUtOTFmYi00NGE5NGUwOTE3ZWMiLCJhY3IiOiIxIiwiYWxsb3dlZC1vcmlnaW5zIjpbImh0dHBzOi8vbG9jYWxob3N0OjQyMDIiLCJodHRwOi8vbG9jYWxob3N0OjQyMDIiLCJodHRwczovL2xvY2FsaG9zdDo0MjAwIiwiaHR0cHM6Ly9uZGVhci54aXYuaW4iLCJodHRwOi8vbG9jYWxob3N0OjQyMDAiLCJodHRwOi8vbmRlYXIueGl2LmluIiwiaHR0cDovLzIwLjE5OC42NC4xMjgiXSwicmVhbG1fYWNjZXNzIjp7InJvbGVzIjpbIm9mZmxpbmVfYWNjZXNzIiwidW1hX2F1dGhvcml6YXRpb24iLCJkZWZhdWx0LXJvbGVzLW5kZWFyIl19LCJyZXNvdXJjZV9hY2Nlc3MiOnsiYWNjb3VudCI6eyJyb2xlcyI6WyJtYW5hZ2UtYWNjb3VudCIsIm1hbmFnZS1hY2NvdW50LWxpbmtzIiwidmlldy1wcm9maWxlIl19fSwic2NvcGUiOiJwcm9maWxlIGVtYWlsIiwiZW1haWxfdmVyaWZpZWQiOmZhbHNlLCJwcmVmZXJyZWRfdXNlcm5hbWUiOiJ4eXoxQG1haWxpbmF0b3IuY29tIiwiZW50aXR5IjpbIkluc3RpdHV0ZSJdLCJlbWFpbCI6Inh5ejFAbWFpbGluYXRvci5jb20ifQ.pxhz8EZocs_V3z1hObmXEzu-yG9nYlP7injgVlMAENchGhKqlpz70oDXzSmO_3mWzg0thCKvB34lFXoPlgisItiXjnp2t5ZyGN86Zzr8ZFBsu4oaT7_BhrU2ZnGtrmV9moZ6HMAHu1UvrFHOy61QziI4964hnJkKImva-VFHkbxu8_CJDizcjn656KZvBkDFkYY0Iq4tKbvxCTSZ2p-kGnMVJpcF9xuJacavIiL9EG9idRexDQunxMhnZmP-Kilnwy-s-SJlCTVyPEwbl7SYQT0w4a9CTVYaFPkxzoHAh3XUaICNEHy27Qlnd03miju9tacy7XtK5-M_I2B1zNE5tQ\n"
     ]
    }
   ],
   "source": [
    "# get institute token\n",
    "institute1Token = getToken(institute1)\n",
    "print(institute1Token)\n",
    "institute2Token = getToken(institute2)\n",
    "print(institute2Token)"
   ]
  },
  {
   "cell_type": "code",
   "execution_count": 113,
   "id": "e07d0934",
   "metadata": {},
   "outputs": [
    {
     "name": "stdout",
     "output_type": "stream",
     "text": [
      "<Response [200]>\n",
      "[{'id': '8950419f-ef1a-4ebe-9ee5-6d77a4d0b2b3', 'entity': 'Teacher', 'entityId': '1-73d6607f-8158-42c6-8702-e9aca997e29d', 'propertyURI': '', 'createdAt': '2022-03-15T11:38:24.123+00:00', 'attestedOn': '2022-03-15T11:43:18.891+00:00', 'status': 'CLOSED', 'conditions': \"(ATTESTOR#$.osid#.contains('1-a140c49c-3575-471c-9e6c-e079fe920349'))\", 'attestorEntity': 'Institute', 'requestorName': None, 'propertyData': '{\"experience\":[{\"osUpdatedAt\":\"2022-03-15T11:37:41.053052Z\",\"osCreatedAt\":\"2022-03-15T11:37:41.053052Z\",\"osUpdatedBy\":\"\",\"osCreatedBy\":\"\",\"osid\":\"1-3223d019-865d-433f-8e1c-7e72b66ff62d\",\"instituteOSID\":\"1-a140c49c-3575-471c-9e6c-e079fe920349\",\"instituteName\":\"XYZ\"}]}', 'attestationId': '1-0d91ad9d-82ce-4702-8362-e7a31bf761de', 'attestationName': 'teacherExperience', 'closed': True}, {'id': '1060c8ae-9428-4f75-89b7-2da3fcc0ee62', 'entity': 'Teacher', 'entityId': '1-eff29030-00a3-48cf-877f-a13244ed1fc2', 'propertyURI': '', 'createdAt': '2022-03-15T12:23:26.640+00:00', 'attestedOn': None, 'status': 'OPEN', 'conditions': \"(ATTESTOR#$.osid#.contains('1-a140c49c-3575-471c-9e6c-e079fe920349'))\", 'attestorEntity': 'Institute', 'requestorName': None, 'propertyData': '{\"experience\":[{\"osUpdatedAt\":\"2022-03-15T12:23:18.989017Z\",\"osCreatedAt\":\"2022-03-15T12:23:18.989017Z\",\"osUpdatedBy\":\"\",\"osCreatedBy\":\"\",\"osid\":\"1-0e225961-c800-4096-afc4-bdedbb9cbdda\",\"instituteOSID\":\"1-a140c49c-3575-471c-9e6c-e079fe920349\",\"instituteName\":\"XYZ\"}]}', 'attestationId': '1-be25e98c-a731-4c47-803b-32734442a389', 'attestationName': 'teacherExperience', 'closed': False}]\n",
      "CLOSED\n",
      "OPEN\n",
      "1060c8ae-9428-4f75-89b7-2da3fcc0ee62\n",
      "<Response [200]>\n",
      "{'resmsgid': '', 'msgid': '7f806382-b532-47b1-b80f-97783ccfcb10', 'err': '', 'status': 'SUCCESSFUL', 'errmsg': ''}\n"
     ]
    }
   ],
   "source": [
    "# get institute claims and grant the claim\n",
    "headers = {\n",
    "  'Content-Type': 'application/json',\n",
    "    'Authorization': 'bearer %s'%institute2Token,\n",
    "}\n",
    "\n",
    "response = requests.request(\"GET\", baseUrl + \"Institute/claims\", headers=headers)\n",
    "assert response.status_code == 200\n",
    "print(response)\n",
    "\n",
    "# Attesting the claim as GRANT\n",
    "data = {\n",
    "    \"action\":\"GRANT_CLAIM\",\n",
    "}\n",
    "print(response.json())\n",
    "attestingClaimId = None\n",
    "for claim in response.json():\n",
    "#     print(claim)\n",
    "    print(claim[\"status\"])\n",
    "    if claim[\"status\"] == \"OPEN\":\n",
    "        attestingClaimId = claim[\"id\"]\n",
    "        print(claim[\"id\"])\n",
    "        attestResp = requests.request(\"POST\", \"%sInstitute/claims/%s/attest\" %(baseUrl, claim[\"id\"]), headers=headers, json=data)\n",
    "        assert response.status_code == 200\n",
    "        print(attestResp)\n",
    "        print(attestResp.json())\n",
    "        break\n",
    "assert attestingClaimId != None\n"
   ]
  },
  {
   "cell_type": "code",
   "execution_count": 114,
   "id": "3988dd39",
   "metadata": {},
   "outputs": [],
   "source": [
    "import time\n",
    "time.sleep(5)\n",
    "# verify attestation status\n",
    "headers = {\n",
    "  'Content-Type': 'application/json',\n",
    "    'Authorization': 'bearer %s'%teacherToken,\n",
    "}\n",
    "\n",
    "response = requests.request(\"GET\", baseUrl + \"Teacher\", headers=headers)\n",
    "\n",
    "# print(response.text)\n",
    "for affiliation in response.json()[0][\"teacherExperience\"]:\n",
    "        if affiliation[\"_osClaimId\"] == attestingClaimId:\n",
    "            assert affiliation[\"_osState\"] == \"PUBLISHED\"\n"
   ]
  },
  {
   "cell_type": "code",
   "execution_count": 115,
   "id": "610427a1",
   "metadata": {},
   "outputs": [
    {
     "name": "stdout",
     "output_type": "stream",
     "text": [
      "200\n",
      "{'id': 'sunbird-rc.registry.send', 'ver': '1.0', 'ets': 1647347020325, 'params': {'resmsgid': '', 'msgid': '78400fec-8639-40f3-8389-3f9cf5b22a49', 'err': '', 'status': 'SUCCESSFUL', 'errmsg': ''}, 'responseCode': 'OK', 'result': {'attestationOSID': '1-884812fd-e8e9-4cda-b414-1f7dfce4d285'}}\n"
     ]
    }
   ],
   "source": [
    "# raise qualification attestation request\n",
    "headers = {\n",
    "    'content-type': 'application/json',\n",
    "    'authorization': 'bearer %s'%teacherToken,\n",
    "}\n",
    "\n",
    "data = {\n",
    "    \"entityName\":\"Teacher\",\n",
    "    \"entityId\":\"%s\"%teacherOsid,\n",
    "    \"name\":\"teacherAcademicsQualification\",\n",
    "    \"propertiesOSID\": {\n",
    "        \"academicQualifications\": [qualificationOsid]\n",
    "    }\n",
    "}\n",
    "response = requests.put(baseUrl+'send', headers=headers, json=data)\n",
    "print(response.status_code)\n",
    "response.json()\n",
    "assert response.status_code == 200\n",
    "print(response.json())\n",
    "assert response.json()[\"params\"][\"status\"] == \"SUCCESSFUL\"\n",
    "\n"
   ]
  },
  {
   "cell_type": "code",
   "execution_count": 116,
   "id": "2f551799",
   "metadata": {},
   "outputs": [
    {
     "name": "stdout",
     "output_type": "stream",
     "text": [
      "eyJhbGciOiJSUzI1NiIsInR5cCIgOiAiSldUIiwia2lkIiA6ICJtRTZ0WlFxSWctWHhGaVJPR21ERXZOb2ctR2Y4RklkNkNTaEJqMVQ2Qkc0In0.eyJleHAiOjE2NDczNDc2MjQsImlhdCI6MTY0NzM0NzAyNCwianRpIjoiMzQ5Mzk5YWItZjkxNi00YWNjLWIyZmUtOGQyOWI5MGZkOWY2IiwiaXNzIjoiaHR0cDovL2tleWNsb2FrOjgwODAvYXV0aC9yZWFsbXMvc3VuYmlyZC1yYyIsImF1ZCI6ImFjY291bnQiLCJzdWIiOiJhNDM3ZDQwMi1lNWFiLTQ3M2QtYWZjZi04MDZhMDBjNjY1MzIiLCJ0eXAiOiJCZWFyZXIiLCJhenAiOiJyZWdpc3RyeS1mcm9udGVuZCIsInNlc3Npb25fc3RhdGUiOiI0ZWM1Y2NkMC02NDQxLTRjYzctYmZiOS05MTE2YjE2ZjlkMzYiLCJhY3IiOiIxIiwiYWxsb3dlZC1vcmlnaW5zIjpbImh0dHBzOi8vbG9jYWxob3N0OjQyMDIiLCJodHRwOi8vbG9jYWxob3N0OjQyMDIiLCJodHRwczovL2xvY2FsaG9zdDo0MjAwIiwiaHR0cHM6Ly9uZGVhci54aXYuaW4iLCJodHRwOi8vbG9jYWxob3N0OjQyMDAiLCJodHRwOi8vbmRlYXIueGl2LmluIiwiaHR0cDovLzIwLjE5OC42NC4xMjgiXSwicmVhbG1fYWNjZXNzIjp7InJvbGVzIjpbIm9mZmxpbmVfYWNjZXNzIiwidW1hX2F1dGhvcml6YXRpb24iLCJkZWZhdWx0LXJvbGVzLW5kZWFyIl19LCJyZXNvdXJjZV9hY2Nlc3MiOnsiYWNjb3VudCI6eyJyb2xlcyI6WyJtYW5hZ2UtYWNjb3VudCIsIm1hbmFnZS1hY2NvdW50LWxpbmtzIiwidmlldy1wcm9maWxlIl19fSwic2NvcGUiOiJwcm9maWxlIGVtYWlsIiwiZW1haWxfdmVyaWZpZWQiOmZhbHNlLCJwcmVmZXJyZWRfdXNlcm5hbWUiOiJhYmMxQG1haWxpbmF0b3IuY29tIiwiZW50aXR5IjpbIkluc3RpdHV0ZSJdLCJlbWFpbCI6ImFiYzFAbWFpbGluYXRvci5jb20ifQ.L3kCWAQhhQtXfZih1eNJH2p5Ez0dbaLBxaMvLUSnRDYC0zsFRukDhjmf4TlW7UPxI7hLA4TvnxNB5bXTPJSJ9ezYKS0r59l80sJNc3AdFCxqGzCOX0ZqmifWbl2WDIygHf0L0I3TpqI3ebEowlG1k82lDS-d6DcvrxOBbtbxRg-e2YdIBGfODqfsiWywX3c4oq64R8AoNqB-Kq_el5FBHro1U-hZtpMksxahqjMG5FvLiS-RZK7qctSHhqDEBQFpZTXaIBEwNGvKwwFBX8EJKPIPnTzQeDTRBA9rvkWA2Q8NAyAhT7mNqZml4lrPO2n7sG9XWxyhnjSYD41sTqqcMA\n",
      "<Response [200]>\n",
      "[{'id': '66837410-de73-4170-8641-8e795b6d71a1', 'entity': 'Teacher', 'entityId': '1-73d6607f-8158-42c6-8702-e9aca997e29d', 'propertyURI': '', 'createdAt': '2022-03-15T11:45:51.402+00:00', 'attestedOn': '2022-03-15T11:46:05.985+00:00', 'status': 'CLOSED', 'conditions': \"(ATTESTOR#$.osid#.contains('1-0e343abd-c710-45a3-a240-e5d8f30ae2d2'))\", 'attestorEntity': 'Institute', 'requestorName': None, 'propertyData': '{\"academicQualifications\":[{\"osUpdatedAt\":\"2022-03-15T11:43:23.385636Z\",\"osCreatedAt\":\"2022-03-15T11:37:41.053052Z\",\"osUpdatedBy\":\"\",\"osCreatedBy\":\"\",\"instituteOSID\":\"1-0e343abd-c710-45a3-a240-e5d8f30ae2d2\",\"osid\":\"1-9dd172c4-d053-4ec4-8b96-58b4badbf4ba\",\"instituteName\":\"ABC\"}]}', 'attestationId': '1-0c86bf64-1f77-4e2d-aa40-7033dc9c9153', 'attestationName': 'teacherAcademicsQualification', 'closed': True}, {'id': '77aa7b9a-ca0b-4b6a-9e9b-8b8186293a7e', 'entity': 'Teacher', 'entityId': '1-73d6607f-8158-42c6-8702-e9aca997e29d', 'propertyURI': '', 'createdAt': '2022-03-15T12:18:16.948+00:00', 'attestedOn': '2022-03-15T12:18:17.214+00:00', 'status': 'CLOSED', 'conditions': \"(ATTESTOR#$.osid#.contains('1-0e343abd-c710-45a3-a240-e5d8f30ae2d2'))\", 'attestorEntity': 'Institute', 'requestorName': None, 'propertyData': '{\"academicQualifications\":[{\"osUpdatedAt\":\"2022-03-15T11:46:12.952025Z\",\"osCreatedAt\":\"2022-03-15T11:37:41.053052Z\",\"osUpdatedBy\":\"\",\"osCreatedBy\":\"\",\"instituteOSID\":\"1-0e343abd-c710-45a3-a240-e5d8f30ae2d2\",\"osid\":\"1-9dd172c4-d053-4ec4-8b96-58b4badbf4ba\",\"instituteName\":\"ABC\"}]}', 'attestationId': '1-34a9d265-c4ca-4501-88bf-6650ad93ab14', 'attestationName': 'teacherAcademicsQualification', 'closed': True}, {'id': '064848e3-d1ef-4f15-87d7-e1aec9997399', 'entity': 'Teacher', 'entityId': '1-73d6607f-8158-42c6-8702-e9aca997e29d', 'propertyURI': '', 'createdAt': '2022-03-15T12:20:17.479+00:00', 'attestedOn': '2022-03-15T12:20:22.357+00:00', 'status': 'CLOSED', 'conditions': \"(ATTESTOR#$.osid#.contains('1-0e343abd-c710-45a3-a240-e5d8f30ae2d2'))\", 'attestorEntity': 'Institute', 'requestorName': None, 'propertyData': '{\"academicQualifications\":[{\"osUpdatedAt\":\"2022-03-15T12:18:17.492222Z\",\"osCreatedAt\":\"2022-03-15T11:37:41.053052Z\",\"osUpdatedBy\":\"\",\"osCreatedBy\":\"\",\"instituteOSID\":\"1-0e343abd-c710-45a3-a240-e5d8f30ae2d2\",\"osid\":\"1-9dd172c4-d053-4ec4-8b96-58b4badbf4ba\",\"instituteName\":\"ABC\"}]}', 'attestationId': '1-f3dacf9e-1e83-4e3b-ba11-70942d4402fe', 'attestationName': 'teacherAcademicsQualification', 'closed': True}, {'id': '3e8c5a86-8ed2-46fb-bc6a-0b8b5ae55307', 'entity': 'Teacher', 'entityId': '1-eff29030-00a3-48cf-877f-a13244ed1fc2', 'propertyURI': '', 'createdAt': '2022-03-15T12:23:40.904+00:00', 'attestedOn': None, 'status': 'OPEN', 'conditions': \"(ATTESTOR#$.osid#.contains('1-0e343abd-c710-45a3-a240-e5d8f30ae2d2'))\", 'attestorEntity': 'Institute', 'requestorName': None, 'propertyData': '{\"academicQualifications\":[{\"osUpdatedAt\":\"2022-03-15T12:23:29.170474Z\",\"osCreatedAt\":\"2022-03-15T12:23:18.989017Z\",\"osUpdatedBy\":\"\",\"osCreatedBy\":\"\",\"instituteOSID\":\"1-0e343abd-c710-45a3-a240-e5d8f30ae2d2\",\"osid\":\"1-ad81ff95-eb57-4b90-998c-5306a3251b7d\",\"instituteName\":\"ABC\"}]}', 'attestationId': '1-884812fd-e8e9-4cda-b414-1f7dfce4d285', 'attestationName': 'teacherAcademicsQualification', 'closed': False}]\n",
      "CLOSED\n",
      "CLOSED\n",
      "CLOSED\n",
      "OPEN\n",
      "3e8c5a86-8ed2-46fb-bc6a-0b8b5ae55307\n",
      "<Response [200]>\n",
      "{'resmsgid': '', 'msgid': 'a1cbfadd-d89b-460c-9ee1-231f6c463c96', 'err': '', 'status': 'SUCCESSFUL', 'errmsg': ''}\n"
     ]
    }
   ],
   "source": [
    "\n",
    "# get institute token\n",
    "institute1Token = getToken(institute1)\n",
    "print(institute1Token)\n",
    "\n",
    "# get institute claims and grant the claim\n",
    "headers = {\n",
    "  'Content-Type': 'application/json',\n",
    "    'Authorization': 'bearer %s'%institute1Token,\n",
    "}\n",
    "\n",
    "response = requests.request(\"GET\", baseUrl + \"Institute/claims\", headers=headers)\n",
    "assert response.status_code == 200\n",
    "print(response)\n",
    "\n",
    "# Attesting the claim as GRANT\n",
    "data = {\n",
    "    \"action\":\"GRANT_CLAIM\",\n",
    "}\n",
    "print(response.json())\n",
    "attestingClaimId = None\n",
    "for claim in response.json():\n",
    "#     print(claim)\n",
    "    print(claim[\"status\"])\n",
    "    if claim[\"status\"] == \"OPEN\":\n",
    "        attestingClaimId = claim[\"id\"]\n",
    "        print(claim[\"id\"])\n",
    "        attestResp = requests.request(\"POST\", \"%sInstitute/claims/%s/attest\" %(baseUrl, claim[\"id\"]), headers=headers, json=data)\n",
    "        assert response.status_code == 200\n",
    "        print(attestResp)\n",
    "        print(attestResp.json())\n",
    "        break\n",
    "assert attestingClaimId != None"
   ]
  },
  {
   "cell_type": "code",
   "execution_count": 117,
   "id": "1d5abf7e",
   "metadata": {},
   "outputs": [
    {
     "name": "stdout",
     "output_type": "stream",
     "text": [
      "{'osUpdatedAt': '2022-03-15T12:23:44.788292Z', 'osUpdatedBy': '', '_osState': 'PUBLISHED', 'entityId': '1-eff29030-00a3-48cf-877f-a13244ed1fc2', 'osid': '1-884812fd-e8e9-4cda-b414-1f7dfce4d285', 'propertiesOSID': {'osid': '1-7c8b2cfd-a567-4716-90b7-2493fe648a8c', 'osUpdatedAt': '2022-03-15T12:23:40.550652Z', 'academicQualifications': ['1-ad81ff95-eb57-4b90-998c-5306a3251b7d'], 'osUpdatedBy': '4fbe8005-167d-4296-87c1-053f7eb7b9e7'}, 'propertyData': '{\"academicQualifications\":[{\"osUpdatedAt\":\"2022-03-15T12:23:29.170474Z\",\"osCreatedAt\":\"2022-03-15T12:23:18.989017Z\",\"osUpdatedBy\":\"\",\"osCreatedBy\":\"\",\"instituteOSID\":\"1-0e343abd-c710-45a3-a240-e5d8f30ae2d2\",\"osid\":\"1-ad81ff95-eb57-4b90-998c-5306a3251b7d\",\"instituteName\":\"ABC\"}]}', 'entityName': 'Teacher', 'name': 'teacherAcademicsQualification', '_osAttestedData': '{\"academicQualifications\":[{\"osUpdatedAt\":\"2022-03-15T12:23:29.170474Z\",\"osCreatedAt\":\"2022-03-15T12:23:18.989017Z\",\"osUpdatedBy\":\"\",\"osCreatedBy\":\"\",\"instituteOSID\":\"1-0e343abd-c710-45a3-a240-e5d8f30ae2d2\",\"osid\":\"1-ad81ff95-eb57-4b90-998c-5306a3251b7d\",\"instituteName\":\"ABC\"}]}', '_osClaimId': '3e8c5a86-8ed2-46fb-bc6a-0b8b5ae55307'}\n"
     ]
    }
   ],
   "source": [
    "\n",
    "import time\n",
    "time.sleep(3)\n",
    "# verify attestation status\n",
    "headers = {\n",
    "  'Content-Type': 'application/json',\n",
    "    'Authorization': 'bearer %s'%teacherToken,\n",
    "}\n",
    "\n",
    "response = requests.request(\"GET\", baseUrl + \"Teacher\", headers=headers)\n",
    "\n",
    "\n",
    "for affiliation in response.json()[0][\"teacherAcademicsQualification\"]:\n",
    "    print(affiliation)\n",
    "    if affiliation[\"_osClaimId\"] == attestingClaimId:\n",
    "        assert affiliation[\"_osState\"] == \"PUBLISHED\""
   ]
  },
  {
   "cell_type": "markdown",
   "id": "c022e941",
   "metadata": {},
   "source": [
    "# Student Attestations"
   ]
  },
  {
   "cell_type": "code",
   "execution_count": 150,
   "id": "ec61edde",
   "metadata": {},
   "outputs": [
    {
     "name": "stdout",
     "output_type": "stream",
     "text": [
      "{\"id\":\"sunbird-rc.registry.invite\",\"ver\":\"1.0\",\"ets\":1647350487384,\"params\":{\"resmsgid\":\"\",\"msgid\":\"7bb40e51-f057-4662-baa1-1c2a521d0b75\",\"err\":\"\",\"status\":\"SUCCESSFUL\",\"errmsg\":\"\"},\"responseCode\":\"OK\",\"result\":{\"Student\":{\"osid\":\"1-d77f3eba-16ba-4aff-bde5-5eda1cda32db\"}}}\n"
     ]
    }
   ],
   "source": [
    "# create teacher\n",
    "studentUserId = \"s4\"\n",
    "studentRequestBody = {\n",
    "  \"identityDetails\": {\n",
    "    \"fullName\": \"student1\",\n",
    "    \"gender\": \"Male\",\n",
    "    \"dob\": \"1995-10-28\",\n",
    "    \"identityHolder\": {\n",
    "      \"AADHAAR\": \"123412323\"\n",
    "    }\n",
    "  },\n",
    "  \"contactDetails\": {\n",
    "    \"email\": \"%s@g.com\"%studentUserId,\n",
    "    \"mobile\": studentUserId\n",
    "  },\n",
    "  \"educationDetails\": [\n",
    "    {\n",
    "      \"instituteOSID\": \"1-a140c49c-3575-471c-9e6c-e079fe920349\",\n",
    "      \"instituteName\": \"XYZ\"\n",
    "    }\n",
    "  ]\n",
    "}\n",
    "headers = {\n",
    "  'Content-Type': 'application/json'\n",
    "}\n",
    "\n",
    "response = requests.request(\"POST\", baseUrl + \"Student/invite\", headers=headers, json=studentRequestBody)\n",
    "\n",
    "print(response.text)\n",
    "assert response.status_code == 200\n",
    "studentOsid = response.json()[\"result\"][\"Student\"][\"osid\"]"
   ]
  },
  {
   "cell_type": "code",
   "execution_count": 151,
   "id": "3c4d8483",
   "metadata": {},
   "outputs": [
    {
     "name": "stdout",
     "output_type": "stream",
     "text": [
      "eyJhbGciOiJSUzI1NiIsInR5cCIgOiAiSldUIiwia2lkIiA6ICJtRTZ0WlFxSWctWHhGaVJPR21ERXZOb2ctR2Y4RklkNkNTaEJqMVQ2Qkc0In0.eyJleHAiOjE2NDczNTEwODgsImlhdCI6MTY0NzM1MDQ4OCwianRpIjoiNzM4YTdlMzktZTk1Yy00ZjQ0LWIxODYtMDg1ODJhNTljOWZjIiwiaXNzIjoiaHR0cDovL2tleWNsb2FrOjgwODAvYXV0aC9yZWFsbXMvc3VuYmlyZC1yYyIsImF1ZCI6ImFjY291bnQiLCJzdWIiOiI3YjNiODYzMy1kNDhhLTRiOWQtOGZiYi1hYjk2ZDdlNGQxOWUiLCJ0eXAiOiJCZWFyZXIiLCJhenAiOiJyZWdpc3RyeS1mcm9udGVuZCIsInNlc3Npb25fc3RhdGUiOiIxYjA0YTU5MC1mMGE3LTQ0MmEtODdlNS00N2ZmZTg4ZWUwZTIiLCJhY3IiOiIxIiwiYWxsb3dlZC1vcmlnaW5zIjpbImh0dHBzOi8vbG9jYWxob3N0OjQyMDIiLCJodHRwOi8vbG9jYWxob3N0OjQyMDIiLCJodHRwczovL2xvY2FsaG9zdDo0MjAwIiwiaHR0cHM6Ly9uZGVhci54aXYuaW4iLCJodHRwOi8vbG9jYWxob3N0OjQyMDAiLCJodHRwOi8vbmRlYXIueGl2LmluIiwiaHR0cDovLzIwLjE5OC42NC4xMjgiXSwicmVhbG1fYWNjZXNzIjp7InJvbGVzIjpbIm9mZmxpbmVfYWNjZXNzIiwidW1hX2F1dGhvcml6YXRpb24iLCJkZWZhdWx0LXJvbGVzLW5kZWFyIl19LCJyZXNvdXJjZV9hY2Nlc3MiOnsiYWNjb3VudCI6eyJyb2xlcyI6WyJtYW5hZ2UtYWNjb3VudCIsIm1hbmFnZS1hY2NvdW50LWxpbmtzIiwidmlldy1wcm9maWxlIl19fSwic2NvcGUiOiJwcm9maWxlIGVtYWlsIiwiZW1haWxfdmVyaWZpZWQiOmZhbHNlLCJwcmVmZXJyZWRfdXNlcm5hbWUiOiJzNCIsImVudGl0eSI6WyJTdHVkZW50Il0sImVtYWlsIjoiczRAZy5jb20ifQ.q8sexNBDdSZgU3ZBtwEWKMos2WCKskMj42SSmGlYRjmhqk6268IzF_1T38O3q4dsiBubqnl1zly0f81ZVHePSionam2uMo44ljeAOVFQcxM2xiAJM_sNfUgy0XCPyRgNh9NrE7PBZzLJuSNlRJkV54WLBsdExzlIXtz1hDvXxPjZkRJhGSJTcVpddiDr9U83rrSjgjgOcb5QX31DwTNOXeZM4EwDgAX14ej7MPKSCTnCYQo-guNw2WOAmSk9kFIXzeKAgWApIbI9cp_SRlbQ2jtCGA85SzaI0xewpS5N0xDClQK5gFwuvMxlZFKlxsqm36m_2W5kiCxgCN-zuNjiAA\n"
     ]
    }
   ],
   "source": [
    "studentToken = getToken(studentUserId)\n",
    "print(studentToken)"
   ]
  },
  {
   "cell_type": "code",
   "execution_count": 152,
   "id": "fa0768fa",
   "metadata": {},
   "outputs": [
    {
     "name": "stdout",
     "output_type": "stream",
     "text": [
      "[{\"educationDetails\":[{\"osid\":\"1-914fdd90-0cf1-477b-ae5e-f1c9a1545667\",\"instituteOSID\":\"1-a140c49c-3575-471c-9e6c-e079fe920349\",\"instituteName\":\"XYZ\"}],\"contactDetails\":{\"osid\":\"1-f3768c65-c6bd-4d22-9440-f328b47ce8ef\",\"mobile\":\"s4\",\"email\":\"s4@g.com\"},\"osid\":\"1-d77f3eba-16ba-4aff-bde5-5eda1cda32db\",\"osOwner\":[\"7b3b8633-d48a-4b9d-8fbb-ab96d7e4d19e\"],\"identityDetails\":{\"osid\":\"1-6985aa68-0785-4b6d-be0d-5cfa0210d7c6\",\"identityHolder\":{\"osid\":\"1-a3695ffe-2170-4510-956c-ba1f643c61bf\",\"AADHAAR\":\"123412323\"},\"gender\":\"Male\",\"dob\":\"1995-10-28\",\"fullName\":\"student1\"}}]\n",
      "1-914fdd90-0cf1-477b-ae5e-f1c9a1545667\n"
     ]
    }
   ],
   "source": [
    "# get student details\n",
    "headers = {\n",
    "  'Content-Type': 'application/json',\n",
    "    'Authorization': 'bearer %s'%studentToken,\n",
    "}\n",
    "\n",
    "response = requests.request(\"GET\", baseUrl + \"Student\", headers=headers)\n",
    "\n",
    "print(response.text)\n",
    "assert response.status_code == 200\n",
    "print(response.json()[0][\"educationDetails\"][0][\"osid\"])\n",
    "educationDetailsOsid = response.json()[0][\"educationDetails\"][0][\"osid\"]"
   ]
  },
  {
   "cell_type": "code",
   "execution_count": null,
   "id": "da089e8d",
   "metadata": {},
   "outputs": [],
   "source": []
  },
  {
   "cell_type": "code",
   "execution_count": 153,
   "id": "103655ed",
   "metadata": {},
   "outputs": [
    {
     "name": "stdout",
     "output_type": "stream",
     "text": [
      "200\n",
      "{'id': 'sunbird-rc.registry.send', 'ver': '1.0', 'ets': 1647350493478, 'params': {'resmsgid': '', 'msgid': '7a27f91f-741e-40a8-b50e-c6aec1310466', 'err': '', 'status': 'SUCCESSFUL', 'errmsg': ''}, 'responseCode': 'OK', 'result': {'attestationOSID': '1-b8095c70-b406-471a-b22d-8356e71c686c'}}\n"
     ]
    }
   ],
   "source": [
    "# raise qualification attestation request\n",
    "headers = {\n",
    "    'content-type': 'application/json',\n",
    "    'authorization': 'bearer %s'%studentToken,\n",
    "}\n",
    "\n",
    "data = {\n",
    "    \"entityName\":\"Student\",\n",
    "    \"entityId\":\"%s\"%studentOsid,\n",
    "    \"name\":\"studentInstituteAttest\",\n",
    "    \"propertiesOSID\": {\n",
    "        \"educationDetails\": [educationDetailsOsid]\n",
    "    }\n",
    "}\n",
    "response = requests.put(baseUrl+'send', headers=headers, json=data)\n",
    "print(response.status_code)\n",
    "response.json()\n",
    "assert response.status_code == 200\n",
    "print(response.json())\n",
    "assert response.json()[\"params\"][\"status\"] == \"SUCCESSFUL\"\n"
   ]
  },
  {
   "cell_type": "code",
   "execution_count": 154,
   "id": "8e71173c",
   "metadata": {},
   "outputs": [
    {
     "name": "stdout",
     "output_type": "stream",
     "text": [
      "eyJhbGciOiJSUzI1NiIsInR5cCIgOiAiSldUIiwia2lkIiA6ICJtRTZ0WlFxSWctWHhGaVJPR21ERXZOb2ctR2Y4RklkNkNTaEJqMVQ2Qkc0In0.eyJleHAiOjE2NDczNTEwOTYsImlhdCI6MTY0NzM1MDQ5NiwianRpIjoiYTBlZjQxMDItMTNkYy00ZTZkLThiNTAtNzNiOTJjYmYzYmY0IiwiaXNzIjoiaHR0cDovL2tleWNsb2FrOjgwODAvYXV0aC9yZWFsbXMvc3VuYmlyZC1yYyIsImF1ZCI6ImFjY291bnQiLCJzdWIiOiI0ZmJlODAwNS0xNjdkLTQyOTYtODdjMS0wNTNmN2ViN2I5ZTciLCJ0eXAiOiJCZWFyZXIiLCJhenAiOiJyZWdpc3RyeS1mcm9udGVuZCIsInNlc3Npb25fc3RhdGUiOiI0ZGY0YjFlNy0zNTk1LTQ4OWMtODlkNy1iZjc5ZGFkODZhMTgiLCJhY3IiOiIxIiwiYWxsb3dlZC1vcmlnaW5zIjpbImh0dHBzOi8vbG9jYWxob3N0OjQyMDIiLCJodHRwOi8vbG9jYWxob3N0OjQyMDIiLCJodHRwczovL2xvY2FsaG9zdDo0MjAwIiwiaHR0cHM6Ly9uZGVhci54aXYuaW4iLCJodHRwOi8vbG9jYWxob3N0OjQyMDAiLCJodHRwOi8vbmRlYXIueGl2LmluIiwiaHR0cDovLzIwLjE5OC42NC4xMjgiXSwicmVhbG1fYWNjZXNzIjp7InJvbGVzIjpbIm9mZmxpbmVfYWNjZXNzIiwidW1hX2F1dGhvcml6YXRpb24iLCJkZWZhdWx0LXJvbGVzLW5kZWFyIl19LCJyZXNvdXJjZV9hY2Nlc3MiOnsiYWNjb3VudCI6eyJyb2xlcyI6WyJtYW5hZ2UtYWNjb3VudCIsIm1hbmFnZS1hY2NvdW50LWxpbmtzIiwidmlldy1wcm9maWxlIl19fSwic2NvcGUiOiJwcm9maWxlIGVtYWlsIiwiZW1haWxfdmVyaWZpZWQiOmZhbHNlLCJwcmVmZXJyZWRfdXNlcm5hbWUiOiJ0NyIsImVudGl0eSI6WyJUZWFjaGVyIiwiU3R1ZGVudCJdLCJlbWFpbCI6InQ3QGcuY29tIn0.tHMeKzFn7rRjloday-nc2nkI7BxCrzjI4SLAt0tCNy0tl6UI2u0kAlIidhTzIL_S5Avkwi_fkC6J98l_4cwI7LNPSPpLk1Ds8Z4vFmTqW0ww2fa9_eaOmEPV7H1E8iU3QkAFq2CkfVBmpWDzaQ2o0zkxctQKcK9It_qxuzrTjAFc2peyr_BG9Hi72GKC70I20a7ZqX4K5X6VpQrytp1DkxGx8s-v8042D9FBVwld-8m_ARGzkwiUdHdS8gSHxwueucAoSK9r0HYuGo5PbIU757uRoco9E1o9mmQRxW0hBdtccm90ougQTJwJ2vehjHg_PvI0VUrpDb5Fix4j_9w1AQ\n",
      "<Response [200]>\n",
      "[{'id': 'c3d65257-0e52-4a9d-a19b-164a449c9d97', 'entity': 'Student', 'entityId': '1-5a873d39-f2dc-435a-8882-2c0621531780', 'propertyURI': '', 'createdAt': '2022-03-15T13:16:52.062+00:00', 'attestedOn': '2022-03-15T13:17:13.339+00:00', 'status': 'CLOSED', 'conditions': \"(ATTESTOR#$.experience.[*].instituteOSID#.contains('1-a140c49c-3575-471c-9e6c-e079fe920349'))\", 'attestorEntity': 'Teacher', 'requestorName': None, 'propertyData': '{\"name\":\"student1\",\"educationDetails\":[{\"osid\":\"1-f739247d-4b1a-4672-8f11-227ef0d50039\",\"instituteOSID\":\"1-a140c49c-3575-471c-9e6c-e079fe920349\",\"instituteName\":\"XYZ\"}]}', 'attestationId': '1-63857c03-5a23-4321-8df1-9ee8e6447465', 'attestationName': 'studentInstituteAttest', 'closed': True}, {'id': '9aed418a-b45a-4c3f-840e-9da4ebddf613', 'entity': 'Student', 'entityId': '1-d77f3eba-16ba-4aff-bde5-5eda1cda32db', 'propertyURI': '', 'createdAt': '2022-03-15T13:21:33.877+00:00', 'attestedOn': None, 'status': 'OPEN', 'conditions': \"(ATTESTOR#$.experience.[*].instituteOSID#.contains('1-a140c49c-3575-471c-9e6c-e079fe920349'))\", 'attestorEntity': 'Teacher', 'requestorName': None, 'propertyData': '{\"name\":\"student1\",\"educationDetails\":[{\"osid\":\"1-914fdd90-0cf1-477b-ae5e-f1c9a1545667\",\"instituteOSID\":\"1-a140c49c-3575-471c-9e6c-e079fe920349\",\"instituteName\":\"XYZ\"}]}', 'attestationId': '1-b8095c70-b406-471a-b22d-8356e71c686c', 'attestationName': 'studentInstituteAttest', 'closed': False}]\n",
      "CLOSED\n",
      "OPEN\n",
      "9aed418a-b45a-4c3f-840e-9da4ebddf613\n",
      "<Response [200]>\n",
      "{'resmsgid': '', 'msgid': '2af07e8b-8d60-400a-889c-4183722f9a1e', 'err': '', 'status': 'SUCCESSFUL', 'errmsg': ''}\n"
     ]
    }
   ],
   "source": [
    "# get teacher token\n",
    "teacherToken = getToken(teacherUserId)\n",
    "print(teacherToken)\n",
    "\n",
    "# get institute claims and grant the claim\n",
    "headers = {\n",
    "  'Content-Type': 'application/json',\n",
    "    'Authorization': 'bearer %s'%teacherToken,\n",
    "}\n",
    "\n",
    "response = requests.request(\"GET\", baseUrl + \"Teacher/claims\", headers=headers)\n",
    "assert response.status_code == 200\n",
    "print(response)\n",
    "\n",
    "# Attesting the claim as GRANT\n",
    "data = {\n",
    "    \"action\":\"GRANT_CLAIM\",\n",
    "}\n",
    "print(response.json())\n",
    "attestingClaimId = None\n",
    "for claim in response.json():\n",
    "#     print(claim)\n",
    "    print(claim[\"status\"])\n",
    "    if claim[\"status\"] == \"OPEN\":\n",
    "        attestingClaimId = claim[\"id\"]\n",
    "        print(claim[\"id\"])\n",
    "        attestResp = requests.request(\"POST\", \"%sTeacher/claims/%s/attest\" %(baseUrl, claim[\"id\"]), headers=headers, json=data)\n",
    "        assert response.status_code == 200\n",
    "        print(attestResp)\n",
    "        print(attestResp.json())\n",
    "        break\n",
    "assert attestingClaimId != None"
   ]
  },
  {
   "cell_type": "code",
   "execution_count": 155,
   "id": "35071076",
   "metadata": {},
   "outputs": [
    {
     "name": "stdout",
     "output_type": "stream",
     "text": [
      "{'entityName': 'Student', '_osState': 'PUBLISHED', 'name': 'studentInstituteAttest', 'entityId': '1-d77f3eba-16ba-4aff-bde5-5eda1cda32db', 'osid': '1-b8095c70-b406-471a-b22d-8356e71c686c', '_osAttestedData': '{\"name\":\"student1\",\"educationDetails\":[{\"osid\":\"1-914fdd90-0cf1-477b-ae5e-f1c9a1545667\",\"instituteOSID\":\"1-a140c49c-3575-471c-9e6c-e079fe920349\",\"instituteName\":\"XYZ\"}]}', 'propertiesOSID': {'osid': '1-709482b4-2f91-454a-ae22-d5ccd73fe7e1', 'educationDetails': ['1-914fdd90-0cf1-477b-ae5e-f1c9a1545667']}, '_osClaimId': '9aed418a-b45a-4c3f-840e-9da4ebddf613', 'propertyData': '{\"name\":\"student1\",\"educationDetails\":[{\"osid\":\"1-914fdd90-0cf1-477b-ae5e-f1c9a1545667\",\"instituteOSID\":\"1-a140c49c-3575-471c-9e6c-e079fe920349\",\"instituteName\":\"XYZ\"}]}'}\n"
     ]
    }
   ],
   "source": [
    "\n",
    "import time\n",
    "time.sleep(1)\n",
    "# verify attestation status\n",
    "headers = {\n",
    "  'Content-Type': 'application/json',\n",
    "    'Authorization': 'bearer %s'%studentToken,\n",
    "}\n",
    "\n",
    "response = requests.request(\"GET\", baseUrl + \"Student\", headers=headers)\n",
    "\n",
    "\n",
    "for affiliation in response.json()[0][\"studentInstituteAttest\"]:\n",
    "    print(affiliation)\n",
    "    if affiliation[\"_osClaimId\"] == attestingClaimId:\n",
    "        assert affiliation[\"_osState\"] == \"PUBLISHED\""
   ]
  },
  {
   "cell_type": "code",
   "execution_count": null,
   "id": "22953353",
   "metadata": {},
   "outputs": [],
   "source": []
  }
 ],
 "metadata": {
  "kernelspec": {
   "display_name": "Python 3 (ipykernel)",
   "language": "python",
   "name": "python3"
  },
  "language_info": {
   "codemirror_mode": {
    "name": "ipython",
    "version": 3
   },
   "file_extension": ".py",
   "mimetype": "text/x-python",
   "name": "python",
   "nbconvert_exporter": "python",
   "pygments_lexer": "ipython3",
   "version": "3.9.5"
  }
 },
 "nbformat": 4,
 "nbformat_minor": 5
}
