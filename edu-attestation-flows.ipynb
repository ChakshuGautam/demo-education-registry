{
 "cells": [
  {
   "cell_type": "code",
   "execution_count": 1,
   "id": "dc3d2384",
   "metadata": {},
   "outputs": [],
   "source": [
    "import requests\n",
    "import random\n",
    "import json"
   ]
  },
  {
   "cell_type": "code",
   "execution_count": 2,
   "id": "f3912238",
   "metadata": {},
   "outputs": [],
   "source": [
    "baseUrl = \"http://localhost:8081/api/v1/\"\n",
    "keycloakUrl = \"http://keycloak:8080\""
   ]
  },
  {
   "cell_type": "markdown",
   "id": "4194d872",
   "metadata": {},
   "source": [
    "# Institute invite"
   ]
  },
  {
   "cell_type": "code",
   "execution_count": 3,
   "id": "1a79ff08",
   "metadata": {},
   "outputs": [],
   "source": [
    "instituteUserId = \"admin36@mailinator.com\"\n",
    "instituteRequestBody = {\n",
    "    \"instituteName\": \"te\",\n",
    "    \"email\": instituteUserId,\n",
    "    \"contactNumber\": \"!23\"\n",
    "}"
   ]
  },
  {
   "cell_type": "code",
   "execution_count": 4,
   "id": "380429d2",
   "metadata": {},
   "outputs": [
    {
     "name": "stdout",
     "output_type": "stream",
     "text": [
      "{\"id\":\"sunbird-rc.registry.invite\",\"ver\":\"1.0\",\"ets\":1656614643768,\"params\":{\"resmsgid\":\"\",\"msgid\":\"cc0ae778-f0e1-4b2d-8187-01bbb5ba628b\",\"err\":\"\",\"status\":\"SUCCESSFUL\",\"errmsg\":\"\"},\"responseCode\":\"OK\",\"result\":{\"Institute\":{\"osid\":\"1-059844e6-8a90-4124-a9aa-2b919bb89cae\"}}}\n"
     ]
    }
   ],
   "source": [
    "headers = {\n",
    "  'Content-Type': 'application/json'\n",
    "}\n",
    "\n",
    "response = requests.request(\"POST\", baseUrl + \"Institute/invite\", headers=headers, json=instituteRequestBody)\n",
    "\n",
    "print(response.text)\n",
    "assert response.status_code == 200"
   ]
  },
  {
   "cell_type": "markdown",
   "id": "5c3a42c6",
   "metadata": {},
   "source": [
    "# get institute token"
   ]
  },
  {
   "cell_type": "code",
   "execution_count": 5,
   "id": "afe497bd",
   "metadata": {},
   "outputs": [],
   "source": [
    "def getToken(userId):\n",
    "    headers = {\n",
    "        'content-type': 'application/x-www-form-urlencoded',\n",
    "    }\n",
    "\n",
    "    data = {\n",
    "      'client_id': 'registry-frontend',\n",
    "      'username': userId,\n",
    "      'password': 'abcd@123',\n",
    "      'grant_type': 'password'\n",
    "    }\n",
    "\n",
    "    response = requests.post('%s/auth/realms/sunbird-rc/protocol/openid-connect/token'%(keycloakUrl), headers=headers, data=data)\n",
    "#     print(response.json())\n",
    "#     print(response.status_code)\n",
    "    token = response.json()[\"access_token\"]\n",
    "    return token\n"
   ]
  },
  {
   "cell_type": "code",
   "execution_count": 6,
   "id": "2635238e",
   "metadata": {},
   "outputs": [
    {
     "name": "stdout",
     "output_type": "stream",
     "text": [
      "eyJhbGciOiJSUzI1NiIsInR5cCIgOiAiSldUIiwia2lkIiA6ICJjQVJSY3JFdWZ5TnNUR1laZlBmNUZyVGtFVzgwVHpMaC11aTc2MEZCM3o4In0.eyJleHAiOjE2NTY2MTUyNDQsImlhdCI6MTY1NjYxNDY0NCwianRpIjoiYWYzN2E0OWItZWY4Yi00NWQ3LTg5ZDEtNDA4NjZmNGFiNmI1IiwiaXNzIjoiaHR0cDovL2tleWNsb2FrOjgwODAvYXV0aC9yZWFsbXMvc3VuYmlyZC1yYyIsImF1ZCI6ImFjY291bnQiLCJzdWIiOiJlYzQzMzBiYi1iYzgwLTQ1YWUtOTJiZS04Y2UwZDA4MGY1NGEiLCJ0eXAiOiJCZWFyZXIiLCJhenAiOiJyZWdpc3RyeS1mcm9udGVuZCIsInNlc3Npb25fc3RhdGUiOiJjZWI3NzNiZS1jYWNmLTRmNDAtYmU4My1lZmJiN2VjNzljOTQiLCJhY3IiOiIxIiwiYWxsb3dlZC1vcmlnaW5zIjpbImh0dHBzOi8vbG9jYWxob3N0OjQyMDIiLCJodHRwOi8vbG9jYWxob3N0OjQyMDIiLCJodHRwczovL2xvY2FsaG9zdDo0MjAwIiwiaHR0cHM6Ly9uZGVhci54aXYuaW4iLCJodHRwOi8vbG9jYWxob3N0OjQyMDAiLCJodHRwOi8vbmRlYXIueGl2LmluIiwiaHR0cDovLzIwLjE5OC42NC4xMjgiXSwicmVhbG1fYWNjZXNzIjp7InJvbGVzIjpbIm9mZmxpbmVfYWNjZXNzIiwidW1hX2F1dGhvcml6YXRpb24iLCJkZWZhdWx0LXJvbGVzLW5kZWFyIl19LCJyZXNvdXJjZV9hY2Nlc3MiOnsiYWNjb3VudCI6eyJyb2xlcyI6WyJtYW5hZ2UtYWNjb3VudCIsIm1hbmFnZS1hY2NvdW50LWxpbmtzIiwidmlldy1wcm9maWxlIl19fSwic2NvcGUiOiJwcm9maWxlIGVtYWlsIiwiZW1haWxfdmVyaWZpZWQiOmZhbHNlLCJwcmVmZXJyZWRfdXNlcm5hbWUiOiJhZG1pbjM2QG1haWxpbmF0b3IuY29tIiwiZW50aXR5IjpbIkluc3RpdHV0ZSJdLCJlbWFpbCI6ImFkbWluMzZAbWFpbGluYXRvci5jb20ifQ.VImAfz0FgIrE5vGB4597FZVCWPBzcSdtXrX9dcwJ3lSbwErCvNPzaJIY1k2DRwq7P_TkNCRvmTh0n1qlpjZIxUWAUHH9LfBBoMRmkhAC7oMTs15ebPzEWm7FoOVZwGP6GsquT0cRVTlipmST-sMiEN1Nd9asEgc3hkDxaSNywHazPngzhnNQ9UYFXj8itPddQ4AGinOh9mxqvGJGZGz8RMNIy4TNjUptvERX_xrckM5ZXFwO-B4oKvJpyQs0XS0vBKe2xh6qzqQ4hQ3i07I-u6bIXzBemEmBAiKErg_46Hv2fehqKRl62k8tUZ8ps0xXkeSMZN7g167tEzjzeWVYhg\n"
     ]
    }
   ],
   "source": [
    "token = getToken(instituteUserId)\n",
    "print(token)"
   ]
  },
  {
   "cell_type": "markdown",
   "id": "e03f92ca",
   "metadata": {},
   "source": [
    "# get institute details"
   ]
  },
  {
   "cell_type": "code",
   "execution_count": 7,
   "id": "6dd13699",
   "metadata": {},
   "outputs": [
    {
     "name": "stdout",
     "output_type": "stream",
     "text": [
      "[{\"osUpdatedAt\":\"2022-06-30T18:44:04.616Z\",\"osCreatedAt\":\"2022-06-30T18:44:04.616Z\",\"osUpdatedBy\":\"\",\"contactNumber\":\"!23\",\"osCreatedBy\":\"\",\"osid\":\"1-059844e6-8a90-4124-a9aa-2b919bb89cae\",\"osOwner\":[\"ec4330bb-bc80-45ae-92be-8ce0d080f54a\"],\"email\":\"admin36@mailinator.com\",\"instituteName\":\"te\"}]\n",
      "1-059844e6-8a90-4124-a9aa-2b919bb89cae\n"
     ]
    }
   ],
   "source": [
    "\n",
    "headers = {\n",
    "  'Content-Type': 'application/json',\n",
    "    'Authorization': 'bearer %s'%token,\n",
    "}\n",
    "\n",
    "response = requests.request(\"GET\", baseUrl + \"Institute\", headers=headers)\n",
    "\n",
    "print(response.text)\n",
    "intituteOsid = response.json()[0][\"osid\"]\n",
    "print(intituteOsid)\n",
    "assert response.status_code == 200\n"
   ]
  },
  {
   "cell_type": "markdown",
   "id": "f927f44f",
   "metadata": {},
   "source": [
    "# Affiliate Institute"
   ]
  },
  {
   "cell_type": "code",
   "execution_count": 8,
   "id": "e2d1cfe8",
   "metadata": {},
   "outputs": [
    {
     "name": "stdout",
     "output_type": "stream",
     "text": [
      "<Response [200]>\n",
      "{'id': 'sunbird-rc.registry.update', 'ver': '1.0', 'ets': 1656614645254, 'params': {'resmsgid': '', 'msgid': 'e5e0a577-56ec-4671-9eba-5c4d7041a9b9', 'err': '', 'status': 'SUCCESSFUL', 'errmsg': ''}, 'responseCode': 'OK'}\n",
      "1-f0247c42-7082-471e-8121-83f59c30438d\n"
     ]
    }
   ],
   "source": [
    "# add affiliation details\n",
    "headers = {\n",
    "    'content-type': 'application/json',\n",
    "    'authorization': 'bearer %s'%token,\n",
    "}\n",
    "\n",
    "data = \"\"\"{\n",
    "\"affiliation\": [\n",
    "  {\n",
    "    \"medium\": \"English\",\n",
    "    \"board\": \"cbse\",\n",
    "    \"affiliationNumber\":  \"123\",\n",
    "    \"grantYear\": \"2000\",\n",
    "    \"expiryYear\":  \"3001\",\n",
    "    \"classes\": [\"Class XII\"]\n",
    "  }\n",
    "]\n",
    "}\"\"\"\n",
    "# print(data)\n",
    "response = requests.put('%sInstitute/%s'%(baseUrl, intituteOsid), headers=headers, data=data)\n",
    "print(response)\n",
    "print(response.json())\n",
    "assert response.status_code == 200\n",
    "\n",
    "\n",
    "# get institute details\n",
    "headers = {\n",
    "  'Content-Type': 'application/json',\n",
    "    'Authorization': 'bearer %s'%token,\n",
    "}\n",
    "\n",
    "response = requests.request(\"GET\", baseUrl + \"Institute\", headers=headers)\n",
    "\n",
    "# print(response.text)\n",
    "intituteAffiliateOsid = response.json()[0][\"affiliation\"][0][\"osid\"]\n",
    "print(intituteAffiliateOsid)\n",
    "assert response.status_code == 200\n"
   ]
  },
  {
   "cell_type": "code",
   "execution_count": 9,
   "id": "31c1a78a",
   "metadata": {},
   "outputs": [
    {
     "name": "stdout",
     "output_type": "stream",
     "text": [
      "200\n",
      "{'id': 'sunbird-rc.registry.send', 'ver': '1.0', 'ets': 1656614645550, 'params': {'resmsgid': '', 'msgid': 'e5bf7b88-db28-4dce-8aca-0d1ad06f3975', 'err': '', 'status': 'SUCCESSFUL', 'errmsg': ''}, 'responseCode': 'OK', 'result': {'attestationOSID': '1-8b6e7e7d-9bd4-4b06-8353-b5eed3d98e72'}}\n"
     ]
    }
   ],
   "source": [
    "# raise attestation request\n",
    "headers = {\n",
    "    'content-type': 'application/json',\n",
    "    'authorization': 'bearer %s'%token,\n",
    "}\n",
    "\n",
    "params = (\n",
    "    ('send', 'true'),\n",
    ")\n",
    "\n",
    "data = {\n",
    "    \"entityName\":\"Institute\",\n",
    "    \"entityId\":\"%s\"%intituteOsid,\n",
    "    \"name\":\"instituteAffiliation\",\n",
    "    \"propertiesOSID\": {\n",
    "        \"affiliation\": [intituteAffiliateOsid]\n",
    "    }\n",
    "}\n",
    "response = requests.put(baseUrl+'send', headers=headers, params=params, json=data)\n",
    "print(response.status_code)\n",
    "response.json()\n",
    "assert response.status_code == 200\n",
    "print(response.json())\n",
    "assert response.json()[\"params\"][\"status\"] == \"SUCCESSFUL\""
   ]
  },
  {
   "cell_type": "markdown",
   "id": "ca3f2d1c",
   "metadata": {},
   "source": [
    "# cbse board attest claims"
   ]
  },
  {
   "cell_type": "code",
   "execution_count": 10,
   "id": "730e0879",
   "metadata": {},
   "outputs": [
    {
     "name": "stdout",
     "output_type": "stream",
     "text": [
      "<Response [200]>\n",
      "OPEN\n",
      "2d8bb61c-298a-4417-9c6d-c82b0e2043ef\n",
      "<Response [200]>\n",
      "{'resmsgid': '', 'msgid': '767f5a2c-3270-456d-8217-4855f1d5c7a1', 'err': '', 'status': 'SUCCESSFUL', 'errmsg': ''}\n"
     ]
    }
   ],
   "source": [
    "# get claims for cbse board\n",
    "# create user manually and attach board-cbse role\n",
    "boardUserId = \"cbse-admin\"\n",
    "boardToken = getToken(boardUserId)\n",
    "# print(boardToken)\n",
    "headers = {\n",
    "  'Content-Type': 'application/json',\n",
    "    'Authorization': 'bearer %s'%boardToken,\n",
    "}\n",
    "\n",
    "response = requests.request(\"GET\", baseUrl + \"board-cbse/claims\", headers=headers)\n",
    "assert response.status_code == 200\n",
    "print(response)\n",
    "\n",
    "# Attesting the claim as GRANT\n",
    "data = {\n",
    "    \"action\":\"GRANT_CLAIM\",\n",
    "}\n",
    "# print(response.json())\n",
    "attestingClaimId = None\n",
    "for claim in response.json():\n",
    "#     print(claim)\n",
    "    print(claim[\"status\"])\n",
    "    if claim[\"status\"] == \"OPEN\":\n",
    "        attestingClaimId = claim[\"id\"]\n",
    "        print(claim[\"id\"])\n",
    "        attestResp = requests.request(\"POST\", \"%sboard-cbse/claims/%s/attest\" %(baseUrl, claim[\"id\"]), headers=headers, json=data)\n",
    "        assert response.status_code == 200\n",
    "        print(attestResp)\n",
    "        print(attestResp.json())\n",
    "        break\n",
    "assert attestingClaimId != None\n",
    "\n",
    "# intituteAffiliateOsid = response.json()[0][\"affiliation\"][0][\"osid\"]\n",
    "# print(intituteAffiliateOsid)\n",
    "\n",
    "import time\n",
    "time.sleep(5)\n",
    "# verify attestation status\n",
    "headers = {\n",
    "  'Content-Type': 'application/json',\n",
    "    'Authorization': 'bearer %s'%token,\n",
    "}\n",
    "\n",
    "response = requests.request(\"GET\", baseUrl + \"Institute\", headers=headers)\n",
    "\n",
    "# print(response.text)\n",
    "for affiliation in response.json()[0][\"instituteAffiliation\"]:\n",
    "        if affiliation[\"_osClaimId\"] == attestingClaimId:\n",
    "            assert affiliation[\"_osState\"] == \"PUBLISHED\""
   ]
  },
  {
   "cell_type": "code",
   "execution_count": 11,
   "id": "63b8aa77",
   "metadata": {},
   "outputs": [
    {
     "name": "stdout",
     "output_type": "stream",
     "text": [
      "[{\"osUpdatedAt\":\"2022-06-30T18:44:06.536Z\",\"osCreatedAt\":\"2022-06-30T18:44:04.616Z\",\"osUpdatedBy\":\"\",\"affiliation\":[{\"osUpdatedAt\":\"2022-06-30T18:44:06.536Z\",\"grantYear\":\"2000\",\"osUpdatedBy\":\"\",\"classes\":[\"Class XII\"],\"affiliationNumber\":\"123\",\"osid\":\"1-f0247c42-7082-471e-8121-83f59c30438d\",\"medium\":\"English\",\"expiryYear\":\"3001\",\"board\":\"cbse\"}],\"contactNumber\":\"!23\",\"osCreatedBy\":\"\",\"instituteAffiliation\":[{\"osUpdatedAt\":\"2022-06-30T18:44:06.536Z\",\"osUpdatedBy\":\"\",\"_osState\":\"PUBLISHED\",\"entityId\":\"1-059844e6-8a90-4124-a9aa-2b919bb89cae\",\"osid\":\"1-8b6e7e7d-9bd4-4b06-8353-b5eed3d98e72\",\"propertiesOSID\":{\"osid\":\"1-ddd35e5d-486c-4749-8cbd-a7eb449f0bbb\",\"osUpdatedAt\":\"2022-06-30T18:44:05.625Z\",\"affiliation\":[\"1-f0247c42-7082-471e-8121-83f59c30438d\"],\"osUpdatedBy\":\"ec4330bb-bc80-45ae-92be-8ce0d080f54a\"},\"propertyData\":\"{\\\"affiliation\\\":[{\\\"osUpdatedAt\\\":\\\"2022-06-30T18:44:05.454Z\\\",\\\"grantYear\\\":\\\"2000\\\",\\\"osUpdatedBy\\\":\\\"ec4330bb-bc80-45ae-92be-8ce0d080f54a\\\",\\\"classes\\\":[\\\"Class XII\\\"],\\\"affiliationNumber\\\":\\\"123\\\",\\\"osid\\\":\\\"1-f0247c42-7082-471e-8121-83f59c30438d\\\",\\\"medium\\\":\\\"English\\\",\\\"expiryYear\\\":\\\"3001\\\",\\\"board\\\":\\\"cbse\\\"}],\\\"instituteName\\\":\\\"te\\\"}\",\"entityName\":\"Institute\",\"name\":\"instituteAffiliation\",\"_osAttestedData\":\"{\\\"affiliation\\\":[{\\\"osUpdatedAt\\\":\\\"2022-06-30T18:44:05.454Z\\\",\\\"grantYear\\\":\\\"2000\\\",\\\"osUpdatedBy\\\":\\\"ec4330bb-bc80-45ae-92be-8ce0d080f54a\\\",\\\"classes\\\":[\\\"Class XII\\\"],\\\"affiliationNumber\\\":\\\"123\\\",\\\"osid\\\":\\\"1-f0247c42-7082-471e-8121-83f59c30438d\\\",\\\"medium\\\":\\\"English\\\",\\\"expiryYear\\\":\\\"3001\\\",\\\"board\\\":\\\"cbse\\\"}],\\\"instituteName\\\":\\\"te\\\"}\",\"_osClaimId\":\"2d8bb61c-298a-4417-9c6d-c82b0e2043ef\"}],\"osid\":\"1-059844e6-8a90-4124-a9aa-2b919bb89cae\",\"osOwner\":[\"ec4330bb-bc80-45ae-92be-8ce0d080f54a\"],\"email\":\"admin36@mailinator.com\",\"instituteName\":\"te\"}]\n"
     ]
    }
   ],
   "source": [
    "# get institute details\n",
    "headers = {\n",
    "  'Content-Type': 'application/json',\n",
    "    'Authorization': 'bearer %s'%token,\n",
    "}\n",
    "\n",
    "response = requests.request(\"GET\", baseUrl + \"Institute\", headers=headers)\n",
    "\n",
    "print(response.text)\n",
    "for affiliation in response.json()[0][\"instituteAffiliation\"]:\n",
    "        if affiliation[\"_osClaimId\"] == attestingClaimId:\n",
    "            assert affiliation[\"_osState\"] == \"PUBLISHED\""
   ]
  },
  {
   "cell_type": "markdown",
   "id": "f71c466c",
   "metadata": {},
   "source": [
    "# Teacher attestations\n"
   ]
  },
  {
   "cell_type": "code",
   "execution_count": 12,
   "id": "c9c84d59",
   "metadata": {},
   "outputs": [
    {
     "name": "stdout",
     "output_type": "stream",
     "text": [
      "{\"id\":\"sunbird-rc.registry.invite\",\"ver\":\"1.0\",\"ets\":1656614651687,\"params\":{\"resmsgid\":\"\",\"msgid\":\"ad039652-e378-4fd0-94f1-912009ea7fdc\",\"err\":\"\",\"status\":\"SUCCESSFUL\",\"errmsg\":\"\"},\"responseCode\":\"OK\",\"result\":{\"Institute\":{\"osid\":\"1-1e1e3501-7ae4-4a79-a0a2-59acff2b394e\"}}}\n",
      "{\"id\":\"sunbird-rc.registry.invite\",\"ver\":\"1.0\",\"ets\":1656614651852,\"params\":{\"resmsgid\":\"\",\"msgid\":\"6aa0f053-87a7-4b13-839e-e8ce3b843b4c\",\"err\":\"\",\"status\":\"SUCCESSFUL\",\"errmsg\":\"\"},\"responseCode\":\"OK\",\"result\":{\"Institute\":{\"osid\":\"1-34417f4d-3252-412e-b3e7-05404fb72783\"}}}\n"
     ]
    }
   ],
   "source": [
    "# create new institutions\n",
    "institute1 = \"ABC1@mailinator.com\"\n",
    "institute2 = \"XYZ1@mailinator.com\"\n",
    "instituteRequestBody = {\n",
    "    \"instituteName\": \"ABC\",\n",
    "    \"email\": institute1,\n",
    "    \"contactNumber\": \"ABC1\"\n",
    "}\n",
    "headers = {\n",
    "  'Content-Type': 'application/json'\n",
    "}\n",
    "\n",
    "response = requests.request(\"POST\", baseUrl + \"Institute/invite\", headers=headers, json=instituteRequestBody)\n",
    "\n",
    "print(response.text)\n",
    "assert response.status_code == 200\n",
    "institute1Osid = response.json()[\"result\"][\"Institute\"][\"osid\"]\n",
    "instituteRequestBody = {\n",
    "    \"instituteName\": \"XYZ\",\n",
    "    \"email\": institute2,\n",
    "    \"contactNumber\": \"XYZ1\"\n",
    "}\n",
    "headers = {\n",
    "  'Content-Type': 'application/json'\n",
    "}\n",
    "\n",
    "response = requests.request(\"POST\", baseUrl + \"Institute/invite\", headers=headers, json=instituteRequestBody)\n",
    "\n",
    "print(response.text)\n",
    "assert response.status_code == 200\n",
    "institute2Osid = response.json()[\"result\"][\"Institute\"][\"osid\"]"
   ]
  },
  {
   "cell_type": "code",
   "execution_count": 13,
   "id": "d3156938",
   "metadata": {},
   "outputs": [
    {
     "name": "stdout",
     "output_type": "stream",
     "text": [
      "{\"id\":\"sunbird-rc.registry.invite\",\"ver\":\"1.0\",\"ets\":1656614652024,\"params\":{\"resmsgid\":\"\",\"msgid\":\"a8f87e6f-ea9a-45df-800f-ff9a95d94300\",\"err\":\"\",\"status\":\"SUCCESSFUL\",\"errmsg\":\"\"},\"responseCode\":\"OK\",\"result\":{\"Teacher\":{\"osid\":\"1-eed674d6-ac44-4079-a743-73ec886fd3d2\"}}}\n"
     ]
    }
   ],
   "source": [
    "# create teacher\n",
    "teacherUserId = \"t7\"\n",
    "teacherRequestBody = {\n",
    "  \"identityDetails\": {\n",
    "    \"fullName\": \"teacher1\",\n",
    "    \"gender\": \"Male\",\n",
    "    \"dob\": \"1995-10-28\",\n",
    "    \"identityHolder\": {\n",
    "      \"AADHAAR\": \"123412323\"\n",
    "    }\n",
    "  },\n",
    "  \"contactDetails\": {\n",
    "    \"email\": \"%s@g.com\"%teacherUserId,\n",
    "    \"mobile\": teacherUserId\n",
    "  },\n",
    "  \"academicQualifications\": [\n",
    "    {\n",
    "      \"instituteOSID\": institute1Osid,\n",
    "      \"instituteName\": \"ABC\"\n",
    "    }\n",
    "  ],\n",
    "  \"experience\": [\n",
    "    {\n",
    "      \"instituteOSID\": institute2Osid,\n",
    "      \"instituteName\": \"XYZ\"\n",
    "    }\n",
    "  ]\n",
    "}\n",
    "headers = {\n",
    "  'Content-Type': 'application/json'\n",
    "}\n",
    "\n",
    "response = requests.request(\"POST\", baseUrl + \"Teacher/invite\", headers=headers, json=teacherRequestBody)\n",
    "\n",
    "print(response.text)\n",
    "assert response.status_code == 200\n",
    "teacherOsid = response.json()[\"result\"][\"Teacher\"][\"osid\"]"
   ]
  },
  {
   "cell_type": "code",
   "execution_count": 14,
   "id": "d9bf7bc7",
   "metadata": {},
   "outputs": [
    {
     "ename": "KeyError",
     "evalue": "'access_token'",
     "output_type": "error",
     "traceback": [
      "\u001b[0;31m---------------------------------------------------------------------------\u001b[0m",
      "\u001b[0;31mKeyError\u001b[0m                                  Traceback (most recent call last)",
      "\u001b[1;32m/home/harshil/Documents/C4GT/demo-education-registry/edu-attestation-flows.ipynb Cell 20'\u001b[0m in \u001b[0;36m<cell line: 1>\u001b[0;34m()\u001b[0m\n\u001b[0;32m----> <a href='vscode-notebook-cell:/home/harshil/Documents/C4GT/demo-education-registry/edu-attestation-flows.ipynb#ch0000019?line=0'>1</a>\u001b[0m teacherToken \u001b[39m=\u001b[39m getToken(teacherUserId)\n\u001b[1;32m      <a href='vscode-notebook-cell:/home/harshil/Documents/C4GT/demo-education-registry/edu-attestation-flows.ipynb#ch0000019?line=1'>2</a>\u001b[0m \u001b[39mprint\u001b[39m(teacherToken)\n",
      "\u001b[1;32m/home/harshil/Documents/C4GT/demo-education-registry/edu-attestation-flows.ipynb Cell 7'\u001b[0m in \u001b[0;36mgetToken\u001b[0;34m(userId)\u001b[0m\n\u001b[1;32m     <a href='vscode-notebook-cell:/home/harshil/Documents/C4GT/demo-education-registry/edu-attestation-flows.ipynb#ch0000006?line=12'>13</a>\u001b[0m     response \u001b[39m=\u001b[39m requests\u001b[39m.\u001b[39mpost(\u001b[39m'\u001b[39m\u001b[39m%s\u001b[39;00m\u001b[39m/auth/realms/sunbird-rc/protocol/openid-connect/token\u001b[39m\u001b[39m'\u001b[39m\u001b[39m%\u001b[39m(keycloakUrl), headers\u001b[39m=\u001b[39mheaders, data\u001b[39m=\u001b[39mdata)\n\u001b[1;32m     <a href='vscode-notebook-cell:/home/harshil/Documents/C4GT/demo-education-registry/edu-attestation-flows.ipynb#ch0000006?line=13'>14</a>\u001b[0m \u001b[39m#     print(response.json())\u001b[39;00m\n\u001b[1;32m     <a href='vscode-notebook-cell:/home/harshil/Documents/C4GT/demo-education-registry/edu-attestation-flows.ipynb#ch0000006?line=14'>15</a>\u001b[0m \u001b[39m#     print(response.status_code)\u001b[39;00m\n\u001b[0;32m---> <a href='vscode-notebook-cell:/home/harshil/Documents/C4GT/demo-education-registry/edu-attestation-flows.ipynb#ch0000006?line=15'>16</a>\u001b[0m     token \u001b[39m=\u001b[39m response\u001b[39m.\u001b[39;49mjson()[\u001b[39m\"\u001b[39;49m\u001b[39maccess_token\u001b[39;49m\u001b[39m\"\u001b[39;49m]\n\u001b[1;32m     <a href='vscode-notebook-cell:/home/harshil/Documents/C4GT/demo-education-registry/edu-attestation-flows.ipynb#ch0000006?line=16'>17</a>\u001b[0m     \u001b[39mreturn\u001b[39;00m token\n",
      "\u001b[0;31mKeyError\u001b[0m: 'access_token'"
     ]
    }
   ],
   "source": [
    "teacherToken = getToken(teacherUserId)\n",
    "print(teacherToken)"
   ]
  },
  {
   "cell_type": "code",
   "execution_count": null,
   "id": "aeabd00a",
   "metadata": {},
   "outputs": [
    {
     "name": "stdout",
     "output_type": "stream",
     "text": [
      "[{\"osUpdatedAt\":\"2022-03-16T05:02:15.601Z\",\"academicQualifications\":[{\"osUpdatedAt\":\"2022-03-16T05:02:15.601Z\",\"osCreatedAt\":\"2022-03-16T05:02:15.601Z\",\"osUpdatedBy\":\"\",\"osCreatedBy\":\"\",\"osid\":\"1-c15c6b3f-456d-4087-aea1-f27f306f0c0b\",\"instituteOSID\":\"1-f8f54222-fcb0-4f94-8ceb-19c16820dff5\",\"instituteName\":\"ABC\"}],\"osCreatedAt\":\"2022-03-16T05:02:15.601Z\",\"osUpdatedBy\":\"\",\"contactDetails\":{\"osid\":\"1-72afc1a9-6a6e-4042-9700-fb56711b54a7\",\"osUpdatedAt\":\"2022-03-16T05:02:15.601Z\",\"osCreatedAt\":\"2022-03-16T05:02:15.601Z\",\"osUpdatedBy\":\"\",\"mobile\":\"t7\",\"osCreatedBy\":\"\",\"email\":\"t7@g.com\"},\"osCreatedBy\":\"\",\"experience\":[{\"osUpdatedAt\":\"2022-03-16T05:02:15.601Z\",\"osCreatedAt\":\"2022-03-16T05:02:15.601Z\",\"osUpdatedBy\":\"\",\"osCreatedBy\":\"\",\"osid\":\"1-ef3b6d5c-d459-447a-a5f6-35f62d391a5c\",\"instituteOSID\":\"1-416a394f-5e8a-4432-ad80-597257209e79\",\"instituteName\":\"XYZ\"}],\"osid\":\"1-4475907c-5964-4724-b2b5-b60e4bf94ccc\",\"identityDetails\":{\"osid\":\"1-e68c52cb-6cef-48c3-a49d-c1ffb9f19628\",\"identityHolder\":{\"osid\":\"1-800dc7da-3f6d-4e58-990a-aa115665232a\",\"osUpdatedAt\":\"2022-03-16T05:02:15.601Z\",\"osCreatedAt\":\"2022-03-16T05:02:15.601Z\",\"osUpdatedBy\":\"\",\"osCreatedBy\":\"\",\"AADHAAR\":\"123412323\"},\"osUpdatedAt\":\"2022-03-16T05:02:15.601Z\",\"gender\":\"Male\",\"osCreatedAt\":\"2022-03-16T05:02:15.601Z\",\"osUpdatedBy\":\"\",\"dob\":\"1995-10-28\",\"osCreatedBy\":\"\",\"fullName\":\"teacher1\"},\"osOwner\":[\"d973eec8-03af-4d6e-85ad-6d27ef486199\"]}]\n",
      "1-ef3b6d5c-d459-447a-a5f6-35f62d391a5c\n",
      "1-c15c6b3f-456d-4087-aea1-f27f306f0c0b\n"
     ]
    }
   ],
   "source": [
    "# get teacher details\n",
    "headers = {\n",
    "  'Content-Type': 'application/json',\n",
    "    'Authorization': 'bearer %s'%teacherToken,\n",
    "}\n",
    "\n",
    "response = requests.request(\"GET\", baseUrl + \"Teacher\", headers=headers)\n",
    "\n",
    "print(response.text)\n",
    "assert response.status_code == 200\n",
    "teacherEntity = response.json()[0]\n",
    "print(teacherEntity[\"experience\"][0][\"osid\"])\n",
    "experienceOsid = teacherEntity[\"experience\"][0][\"osid\"]\n",
    "print(teacherEntity[\"academicQualifications\"][0][\"osid\"])\n",
    "qualificationOsid = teacherEntity[\"academicQualifications\"][0][\"osid\"]"
   ]
  },
  {
   "cell_type": "markdown",
   "id": "0843d3d0",
   "metadata": {},
   "source": [
    "# raise teacher's education attestation"
   ]
  },
  {
   "cell_type": "code",
   "execution_count": null,
   "id": "91370c50",
   "metadata": {},
   "outputs": [],
   "source": []
  },
  {
   "cell_type": "code",
   "execution_count": null,
   "id": "5befaa8f",
   "metadata": {},
   "outputs": [
    {
     "name": "stdout",
     "output_type": "stream",
     "text": [
      "200\n",
      "{'id': 'sunbird-rc.registry.send', 'ver': '1.0', 'ets': 1647406955903, 'params': {'resmsgid': '', 'msgid': '305aadb6-acc6-47d9-a335-61c388a7975b', 'err': '', 'status': 'SUCCESSFUL', 'errmsg': ''}, 'responseCode': 'OK', 'result': {'attestationOSID': '1-6888f611-cf80-45d8-832e-572f18194d42'}}\n"
     ]
    }
   ],
   "source": [
    "# raise attestation request\n",
    "headers = {\n",
    "    'content-type': 'application/json',\n",
    "    'authorization': 'bearer %s'%teacherToken,\n",
    "}\n",
    "\n",
    "data = {\n",
    "    \"entityName\":\"Teacher\",\n",
    "    \"entityId\":\"%s\"%teacherOsid,\n",
    "    \"name\":\"teacherExperience\",\n",
    "    \"propertiesOSID\": {\n",
    "        \"experience\": [experienceOsid]\n",
    "    }\n",
    "}\n",
    "response = requests.put(baseUrl+'send', headers=headers, json=data)\n",
    "print(response.status_code)\n",
    "response.json()\n",
    "assert response.status_code == 200\n",
    "print(response.json())\n",
    "assert response.json()[\"params\"][\"status\"] == \"SUCCESSFUL\""
   ]
  },
  {
   "cell_type": "code",
   "execution_count": null,
   "id": "5a219b6b",
   "metadata": {},
   "outputs": [
    {
     "name": "stdout",
     "output_type": "stream",
     "text": [
      "eyJhbGciOiJSUzI1NiIsInR5cCIgOiAiSldUIiwia2lkIiA6ICJGRVZ0dExTTDdYMU9pOE5BcmcxU25tN1lRZWVSODc4N3dwTDdwdzJJeE9NIn0.eyJleHAiOjE2NDc0MDc1NTcsImlhdCI6MTY0NzQwNjk1NywianRpIjoiZDc0ZWNjYTQtNzY5ZC00NjBhLWFiZjctMjc3NmQ3OTk0NjgwIiwiaXNzIjoiaHR0cDovL2tleWNsb2FrOjgwODAvYXV0aC9yZWFsbXMvc3VuYmlyZC1yYyIsImF1ZCI6ImFjY291bnQiLCJzdWIiOiI3N2VhOWU0Zi1hOGFmLTRlMjItOGY1OS02NWVmYTFkNWZjYmQiLCJ0eXAiOiJCZWFyZXIiLCJhenAiOiJyZWdpc3RyeS1mcm9udGVuZCIsInNlc3Npb25fc3RhdGUiOiJiMWE2NGQzYy02MGI2LTQxZjEtYWIzZS1jZTc0YTY1Njc0MDgiLCJhY3IiOiIxIiwiYWxsb3dlZC1vcmlnaW5zIjpbImh0dHBzOi8vbG9jYWxob3N0OjQyMDIiLCJodHRwOi8vbG9jYWxob3N0OjQyMDIiLCJodHRwczovL2xvY2FsaG9zdDo0MjAwIiwiaHR0cHM6Ly9uZGVhci54aXYuaW4iLCJodHRwOi8vbG9jYWxob3N0OjQyMDAiLCJodHRwOi8vbmRlYXIueGl2LmluIiwiaHR0cDovLzIwLjE5OC42NC4xMjgiXSwicmVhbG1fYWNjZXNzIjp7InJvbGVzIjpbIm9mZmxpbmVfYWNjZXNzIiwidW1hX2F1dGhvcml6YXRpb24iLCJkZWZhdWx0LXJvbGVzLW5kZWFyIl19LCJyZXNvdXJjZV9hY2Nlc3MiOnsiYWNjb3VudCI6eyJyb2xlcyI6WyJtYW5hZ2UtYWNjb3VudCIsIm1hbmFnZS1hY2NvdW50LWxpbmtzIiwidmlldy1wcm9maWxlIl19fSwic2NvcGUiOiJwcm9maWxlIGVtYWlsIiwiZW1haWxfdmVyaWZpZWQiOmZhbHNlLCJwcmVmZXJyZWRfdXNlcm5hbWUiOiJhYmMxQG1haWxpbmF0b3IuY29tIiwiZW50aXR5IjpbIkluc3RpdHV0ZSJdLCJlbWFpbCI6ImFiYzFAbWFpbGluYXRvci5jb20ifQ.uU72x0gOPtjT3NfSXuOzDlmLwWUMpsQmLKIRDQOcpb7UM5EhyguTHSC0Wtai3F8GsDPisINe84S1YOMGe7grVuD9igzplkCKsC481w9-pEm0BmKkEMYMMsMSOr2AhDaABX79_3R876J5xLq_5-oNguxGlgNVF_WezwkG1_Lyh3Fl0yPP4ZCHAJDVWhUM8ld0ywWNfJYmcDxYTERDgwT4bktLS0hSGYTTv-TAwwz3fxgCJPreYYyqBRWIiTX0jQjfEZq86neTb4wQUOlJ9v7TV9qZuliccRzWgD3u6QSoYr6bop-Sex9b3Cky65okcl9JR_S7BIOaHru4t_2H1ZGrvg\n",
      "eyJhbGciOiJSUzI1NiIsInR5cCIgOiAiSldUIiwia2lkIiA6ICJGRVZ0dExTTDdYMU9pOE5BcmcxU25tN1lRZWVSODc4N3dwTDdwdzJJeE9NIn0.eyJleHAiOjE2NDc0MDc1NTcsImlhdCI6MTY0NzQwNjk1NywianRpIjoiY2Q5YTBmYjYtNWM0NS00ZjlkLWI4NWItOTQzMzliYjJlMGIwIiwiaXNzIjoiaHR0cDovL2tleWNsb2FrOjgwODAvYXV0aC9yZWFsbXMvc3VuYmlyZC1yYyIsImF1ZCI6ImFjY291bnQiLCJzdWIiOiJhNjI2NzJjOS1lMmE5LTRhMDQtYTBhOC0xYzYyZDAwM2E1N2IiLCJ0eXAiOiJCZWFyZXIiLCJhenAiOiJyZWdpc3RyeS1mcm9udGVuZCIsInNlc3Npb25fc3RhdGUiOiI1OGUzMjNhZS00NWNjLTQzMjctYWExNy02MWY1NWI0MWYxMjciLCJhY3IiOiIxIiwiYWxsb3dlZC1vcmlnaW5zIjpbImh0dHBzOi8vbG9jYWxob3N0OjQyMDIiLCJodHRwOi8vbG9jYWxob3N0OjQyMDIiLCJodHRwczovL2xvY2FsaG9zdDo0MjAwIiwiaHR0cHM6Ly9uZGVhci54aXYuaW4iLCJodHRwOi8vbG9jYWxob3N0OjQyMDAiLCJodHRwOi8vbmRlYXIueGl2LmluIiwiaHR0cDovLzIwLjE5OC42NC4xMjgiXSwicmVhbG1fYWNjZXNzIjp7InJvbGVzIjpbIm9mZmxpbmVfYWNjZXNzIiwidW1hX2F1dGhvcml6YXRpb24iLCJkZWZhdWx0LXJvbGVzLW5kZWFyIl19LCJyZXNvdXJjZV9hY2Nlc3MiOnsiYWNjb3VudCI6eyJyb2xlcyI6WyJtYW5hZ2UtYWNjb3VudCIsIm1hbmFnZS1hY2NvdW50LWxpbmtzIiwidmlldy1wcm9maWxlIl19fSwic2NvcGUiOiJwcm9maWxlIGVtYWlsIiwiZW1haWxfdmVyaWZpZWQiOmZhbHNlLCJwcmVmZXJyZWRfdXNlcm5hbWUiOiJ4eXoxQG1haWxpbmF0b3IuY29tIiwiZW50aXR5IjpbIkluc3RpdHV0ZSJdLCJlbWFpbCI6Inh5ejFAbWFpbGluYXRvci5jb20ifQ.UEl3c9Ua64oxfOqcsNnuOqmHX3SPK23NFffr83cuy-YYHk6uL7nM_y4LdxyIbkGGPCSvjjvJrEunT7nv7niz8EsPYLDzNrjM565OMBx4yBr4VvlwwpycLGr7xKAf3rkS2eDDPZP3FFFQhK1sGUZpTd-nhpd5-DlFtGbZwO3EGHVDuAmTFkgalwsbtmHEFDzodKmvqsaK1HfyXm7MrX8Ga6W1mgLVI4Xt78tAJLNApTTBPcVp70dE5iD2VD9kkjBiIzcUOcuxGO_XcZo1g299TziICC1vQIritRTu2LX4-0ZPLPfMe4UppDpO0Euf-l-oa0W_fCnSRqXA18S5JhzJOA\n"
     ]
    }
   ],
   "source": [
    "# get institute token\n",
    "institute1Token = getToken(institute1)\n",
    "print(institute1Token)\n",
    "institute2Token = getToken(institute2)\n",
    "print(institute2Token)"
   ]
  },
  {
   "cell_type": "code",
   "execution_count": null,
   "id": "e07d0934",
   "metadata": {},
   "outputs": [
    {
     "name": "stdout",
     "output_type": "stream",
     "text": [
      "<Response [200]>\n",
      "[{'id': '010e75d5-43f8-4efe-aaa5-f3d4e8850610', 'entity': 'Teacher', 'entityId': '1-4475907c-5964-4724-b2b5-b60e4bf94ccc', 'propertyURI': '', 'createdAt': '2022-03-16T05:02:36.610+00:00', 'attestedOn': None, 'status': 'OPEN', 'conditions': \"(ATTESTOR#$.osid#.contains('1-416a394f-5e8a-4432-ad80-597257209e79'))\", 'attestorEntity': 'Institute', 'requestorName': None, 'propertyData': '{\"experience\":[{\"osUpdatedAt\":\"2022-03-16T05:02:15.601Z\",\"osCreatedAt\":\"2022-03-16T05:02:15.601Z\",\"osUpdatedBy\":\"\",\"osCreatedBy\":\"\",\"osid\":\"1-ef3b6d5c-d459-447a-a5f6-35f62d391a5c\",\"instituteOSID\":\"1-416a394f-5e8a-4432-ad80-597257209e79\",\"instituteName\":\"XYZ\"}]}', 'attestationId': '1-6888f611-cf80-45d8-832e-572f18194d42', 'attestationName': 'teacherExperience', 'closed': False}]\n",
      "OPEN\n",
      "010e75d5-43f8-4efe-aaa5-f3d4e8850610\n",
      "<Response [200]>\n",
      "{'resmsgid': '', 'msgid': '77c298ac-0bf5-456e-82e8-8457862e6030', 'err': '', 'status': 'SUCCESSFUL', 'errmsg': ''}\n"
     ]
    }
   ],
   "source": [
    "# get institute claims and grant the claim\n",
    "headers = {\n",
    "  'Content-Type': 'application/json',\n",
    "    'Authorization': 'bearer %s'%institute2Token,\n",
    "}\n",
    "\n",
    "response = requests.request(\"GET\", baseUrl + \"Institute/claims\", headers=headers)\n",
    "assert response.status_code == 200\n",
    "print(response)\n",
    "\n",
    "# Attesting the claim as GRANT\n",
    "data = {\n",
    "    \"action\":\"GRANT_CLAIM\",\n",
    "}\n",
    "print(response.json())\n",
    "attestingClaimId = None\n",
    "for claim in response.json():\n",
    "#     print(claim)\n",
    "    print(claim[\"status\"])\n",
    "    if claim[\"status\"] == \"OPEN\":\n",
    "        attestingClaimId = claim[\"id\"]\n",
    "        print(claim[\"id\"])\n",
    "        attestResp = requests.request(\"POST\", \"%sInstitute/claims/%s/attest\" %(baseUrl, claim[\"id\"]), headers=headers, json=data)\n",
    "        assert response.status_code == 200\n",
    "        print(attestResp)\n",
    "        print(attestResp.json())\n",
    "        break\n",
    "assert attestingClaimId != None\n"
   ]
  },
  {
   "cell_type": "code",
   "execution_count": null,
   "id": "3988dd39",
   "metadata": {},
   "outputs": [],
   "source": [
    "import time\n",
    "time.sleep(5)\n",
    "# verify attestation status\n",
    "headers = {\n",
    "  'Content-Type': 'application/json',\n",
    "    'Authorization': 'bearer %s'%teacherToken,\n",
    "}\n",
    "\n",
    "response = requests.request(\"GET\", baseUrl + \"Teacher\", headers=headers)\n",
    "\n",
    "# print(response.text)\n",
    "for affiliation in response.json()[0][\"teacherExperience\"]:\n",
    "        if affiliation[\"_osClaimId\"] == attestingClaimId:\n",
    "            assert affiliation[\"_osState\"] == \"PUBLISHED\"\n"
   ]
  },
  {
   "cell_type": "code",
   "execution_count": null,
   "id": "610427a1",
   "metadata": {},
   "outputs": [
    {
     "name": "stdout",
     "output_type": "stream",
     "text": [
      "200\n",
      "{'id': 'sunbird-rc.registry.send', 'ver': '1.0', 'ets': 1647406968481, 'params': {'resmsgid': '', 'msgid': '83db1b59-148b-48f8-a7f0-1e6c3c831f06', 'err': '', 'status': 'SUCCESSFUL', 'errmsg': ''}, 'responseCode': 'OK', 'result': {'attestationOSID': '1-feb35fd7-da36-43ab-b2e5-168a702c3553'}}\n"
     ]
    }
   ],
   "source": [
    "# raise qualification attestation request\n",
    "headers = {\n",
    "    'content-type': 'application/json',\n",
    "    'authorization': 'bearer %s'%teacherToken,\n",
    "}\n",
    "\n",
    "data = {\n",
    "    \"entityName\":\"Teacher\",\n",
    "    \"entityId\":\"%s\"%teacherOsid,\n",
    "    \"name\":\"teacherAcademicsQualification\",\n",
    "    \"propertiesOSID\": {\n",
    "        \"academicQualifications\": [qualificationOsid]\n",
    "    }\n",
    "}\n",
    "response = requests.put(baseUrl+'send', headers=headers, json=data)\n",
    "print(response.status_code)\n",
    "response.json()\n",
    "assert response.status_code == 200\n",
    "print(response.json())\n",
    "assert response.json()[\"params\"][\"status\"] == \"SUCCESSFUL\"\n",
    "\n"
   ]
  },
  {
   "cell_type": "code",
   "execution_count": null,
   "id": "2f551799",
   "metadata": {},
   "outputs": [
    {
     "name": "stdout",
     "output_type": "stream",
     "text": [
      "eyJhbGciOiJSUzI1NiIsInR5cCIgOiAiSldUIiwia2lkIiA6ICJGRVZ0dExTTDdYMU9pOE5BcmcxU25tN1lRZWVSODc4N3dwTDdwdzJJeE9NIn0.eyJleHAiOjE2NDc0MDc1NzIsImlhdCI6MTY0NzQwNjk3MiwianRpIjoiZmZhN2Y5YTMtMjA3ZS00MzY2LWIwZDMtYTkxOGFhMzUxOGJlIiwiaXNzIjoiaHR0cDovL2tleWNsb2FrOjgwODAvYXV0aC9yZWFsbXMvc3VuYmlyZC1yYyIsImF1ZCI6ImFjY291bnQiLCJzdWIiOiI3N2VhOWU0Zi1hOGFmLTRlMjItOGY1OS02NWVmYTFkNWZjYmQiLCJ0eXAiOiJCZWFyZXIiLCJhenAiOiJyZWdpc3RyeS1mcm9udGVuZCIsInNlc3Npb25fc3RhdGUiOiIwZjMxNTk5NS03YWYwLTQyNDMtYjcwZC1lOTE1YzU0OGIzYzgiLCJhY3IiOiIxIiwiYWxsb3dlZC1vcmlnaW5zIjpbImh0dHBzOi8vbG9jYWxob3N0OjQyMDIiLCJodHRwOi8vbG9jYWxob3N0OjQyMDIiLCJodHRwczovL2xvY2FsaG9zdDo0MjAwIiwiaHR0cHM6Ly9uZGVhci54aXYuaW4iLCJodHRwOi8vbG9jYWxob3N0OjQyMDAiLCJodHRwOi8vbmRlYXIueGl2LmluIiwiaHR0cDovLzIwLjE5OC42NC4xMjgiXSwicmVhbG1fYWNjZXNzIjp7InJvbGVzIjpbIm9mZmxpbmVfYWNjZXNzIiwidW1hX2F1dGhvcml6YXRpb24iLCJkZWZhdWx0LXJvbGVzLW5kZWFyIl19LCJyZXNvdXJjZV9hY2Nlc3MiOnsiYWNjb3VudCI6eyJyb2xlcyI6WyJtYW5hZ2UtYWNjb3VudCIsIm1hbmFnZS1hY2NvdW50LWxpbmtzIiwidmlldy1wcm9maWxlIl19fSwic2NvcGUiOiJwcm9maWxlIGVtYWlsIiwiZW1haWxfdmVyaWZpZWQiOmZhbHNlLCJwcmVmZXJyZWRfdXNlcm5hbWUiOiJhYmMxQG1haWxpbmF0b3IuY29tIiwiZW50aXR5IjpbIkluc3RpdHV0ZSJdLCJlbWFpbCI6ImFiYzFAbWFpbGluYXRvci5jb20ifQ.o9Mm4C0I_NLVfhRIx_cTcqeUiS5boHs0-GVC-HcPeoytd5hG4fnHwAUM2mEDH-1DJkXuBFPii5qJtjf1R797pGyH8ZIPmJD-74W3beF6NqMqmCugsbZdtqonDmbcfy8yincP-kp799eBEJhjIvC9LrLFiTLGBt6DmBsvcphZGoVlZnCz0WxGlHczEMwutsGw34CmVnnPLDK1B4NZ9h9Nxa42ioXR6HjpEmrgS9xbS-gk0TKzgK7bMfRINfGwQQm29DX0zor9EkEmMRJFS3IuTS8zlMkS7QvCP72hZuD4nJmri7HhIdwWm-56Qx23uj7IeNJNwo7wGfTEdX-6I9tlvA\n",
      "<Response [200]>\n",
      "[{'id': 'a2d1a775-2ab5-4a8a-af7b-ca52017d4f79', 'entity': 'Teacher', 'entityId': '1-4475907c-5964-4724-b2b5-b60e4bf94ccc', 'propertyURI': '', 'createdAt': '2022-03-16T05:02:49.254+00:00', 'attestedOn': None, 'status': 'OPEN', 'conditions': \"(ATTESTOR#$.osid#.contains('1-f8f54222-fcb0-4f94-8ceb-19c16820dff5'))\", 'attestorEntity': 'Institute', 'requestorName': None, 'propertyData': '{\"academicQualifications\":[{\"osUpdatedAt\":\"2022-03-16T05:02:40.022Z\",\"osCreatedAt\":\"2022-03-16T05:02:15.601Z\",\"osUpdatedBy\":\"\",\"osCreatedBy\":\"\",\"osid\":\"1-c15c6b3f-456d-4087-aea1-f27f306f0c0b\",\"instituteOSID\":\"1-f8f54222-fcb0-4f94-8ceb-19c16820dff5\",\"instituteName\":\"ABC\"}]}', 'attestationId': '1-feb35fd7-da36-43ab-b2e5-168a702c3553', 'attestationName': 'teacherAcademicsQualification', 'closed': False}]\n",
      "OPEN\n",
      "a2d1a775-2ab5-4a8a-af7b-ca52017d4f79\n",
      "<Response [200]>\n",
      "{'resmsgid': '', 'msgid': '17dd8c4d-1935-4cee-8295-db9c85a3d902', 'err': '', 'status': 'SUCCESSFUL', 'errmsg': ''}\n"
     ]
    }
   ],
   "source": [
    "\n",
    "# get institute token\n",
    "institute1Token = getToken(institute1)\n",
    "print(institute1Token)\n",
    "\n",
    "# get institute claims and grant the claim\n",
    "headers = {\n",
    "  'Content-Type': 'application/json',\n",
    "    'Authorization': 'bearer %s'%institute1Token,\n",
    "}\n",
    "\n",
    "response = requests.request(\"GET\", baseUrl + \"Institute/claims\", headers=headers)\n",
    "assert response.status_code == 200\n",
    "print(response)\n",
    "\n",
    "# Attesting the claim as GRANT\n",
    "data = {\n",
    "    \"action\":\"GRANT_CLAIM\",\n",
    "}\n",
    "print(response.json())\n",
    "attestingClaimId = None\n",
    "for claim in response.json():\n",
    "#     print(claim)\n",
    "    print(claim[\"status\"])\n",
    "    if claim[\"status\"] == \"OPEN\":\n",
    "        attestingClaimId = claim[\"id\"]\n",
    "        print(claim[\"id\"])\n",
    "        attestResp = requests.request(\"POST\", \"%sInstitute/claims/%s/attest\" %(baseUrl, claim[\"id\"]), headers=headers, json=data)\n",
    "        assert response.status_code == 200\n",
    "        print(attestResp)\n",
    "        print(attestResp.json())\n",
    "        break\n",
    "assert attestingClaimId != None"
   ]
  },
  {
   "cell_type": "code",
   "execution_count": null,
   "id": "1d5abf7e",
   "metadata": {},
   "outputs": [
    {
     "name": "stdout",
     "output_type": "stream",
     "text": [
      "{'osUpdatedAt': '2022-03-16T05:02:52.429Z', 'osUpdatedBy': '', '_osState': 'PUBLISHED', 'entityId': '1-4475907c-5964-4724-b2b5-b60e4bf94ccc', 'osid': '1-feb35fd7-da36-43ab-b2e5-168a702c3553', 'propertiesOSID': {'osid': '1-88bd050f-d83e-4c2b-bfec-f662dcec8a92', 'osUpdatedAt': '2022-03-16T05:02:48.543Z', 'osUpdatedBy': 'd973eec8-03af-4d6e-85ad-6d27ef486199', 'academicQualifications': ['1-c15c6b3f-456d-4087-aea1-f27f306f0c0b']}, 'propertyData': '{\"academicQualifications\":[{\"osUpdatedAt\":\"2022-03-16T05:02:40.022Z\",\"osCreatedAt\":\"2022-03-16T05:02:15.601Z\",\"osUpdatedBy\":\"\",\"osCreatedBy\":\"\",\"osid\":\"1-c15c6b3f-456d-4087-aea1-f27f306f0c0b\",\"instituteOSID\":\"1-f8f54222-fcb0-4f94-8ceb-19c16820dff5\",\"instituteName\":\"ABC\"}]}', 'entityName': 'Teacher', 'name': 'teacherAcademicsQualification', '_osAttestedData': '{\"academicQualifications\":[{\"osUpdatedAt\":\"2022-03-16T05:02:40.022Z\",\"osCreatedAt\":\"2022-03-16T05:02:15.601Z\",\"osUpdatedBy\":\"\",\"osCreatedBy\":\"\",\"osid\":\"1-c15c6b3f-456d-4087-aea1-f27f306f0c0b\",\"instituteOSID\":\"1-f8f54222-fcb0-4f94-8ceb-19c16820dff5\",\"instituteName\":\"ABC\"}]}', '_osClaimId': 'a2d1a775-2ab5-4a8a-af7b-ca52017d4f79'}\n"
     ]
    }
   ],
   "source": [
    "\n",
    "import time\n",
    "time.sleep(3)\n",
    "# verify attestation status\n",
    "headers = {\n",
    "  'Content-Type': 'application/json',\n",
    "    'Authorization': 'bearer %s'%teacherToken,\n",
    "}\n",
    "\n",
    "response = requests.request(\"GET\", baseUrl + \"Teacher\", headers=headers)\n",
    "\n",
    "\n",
    "for affiliation in response.json()[0][\"teacherAcademicsQualification\"]:\n",
    "    print(affiliation)\n",
    "    if affiliation[\"_osClaimId\"] == attestingClaimId:\n",
    "        assert affiliation[\"_osState\"] == \"PUBLISHED\""
   ]
  },
  {
   "cell_type": "markdown",
   "id": "c022e941",
   "metadata": {},
   "source": [
    "# Student Attestations"
   ]
  },
  {
   "cell_type": "code",
   "execution_count": null,
   "id": "ec61edde",
   "metadata": {},
   "outputs": [
    {
     "name": "stdout",
     "output_type": "stream",
     "text": [
      "{\"id\":\"sunbird-rc.registry.invite\",\"ver\":\"1.0\",\"ets\":1647407039305,\"params\":{\"resmsgid\":\"\",\"msgid\":\"363d9d30-f76c-4c4c-b94c-8f43e478f6bd\",\"err\":\"\",\"status\":\"SUCCESSFUL\",\"errmsg\":\"\"},\"responseCode\":\"OK\",\"result\":{\"Student\":{\"osid\":\"1-f89b0b11-9032-409a-8534-9ff344d06eca\"}}}\n"
     ]
    }
   ],
   "source": [
    "# create teacher\n",
    "studentUserId = \"s5\"\n",
    "studentRequestBody = {\n",
    "  \"identityDetails\": {\n",
    "    \"fullName\": \"student1\",\n",
    "    \"gender\": \"Male\",\n",
    "    \"dob\": \"1995-10-28\",\n",
    "    \"identityHolder\": {\n",
    "      \"AADHAAR\": \"123412323\"\n",
    "    }\n",
    "  },\n",
    "  \"contactDetails\": {\n",
    "    \"email\": \"%s@g.com\"%studentUserId,\n",
    "    \"mobile\": studentUserId\n",
    "  },\n",
    "  \"educationDetails\": [\n",
    "    {\n",
    "      \"instituteOSID\": institute2Osid,\n",
    "      \"instituteName\": \"XYZ\"\n",
    "    }\n",
    "  ]\n",
    "}\n",
    "headers = {\n",
    "  'Content-Type': 'application/json'\n",
    "}\n",
    "\n",
    "response = requests.request(\"POST\", baseUrl + \"Student/invite\", headers=headers, json=studentRequestBody)\n",
    "\n",
    "print(response.text)\n",
    "assert response.status_code == 200\n",
    "studentOsid = response.json()[\"result\"][\"Student\"][\"osid\"]"
   ]
  },
  {
   "cell_type": "code",
   "execution_count": null,
   "id": "3c4d8483",
   "metadata": {},
   "outputs": [
    {
     "name": "stdout",
     "output_type": "stream",
     "text": [
      "eyJhbGciOiJSUzI1NiIsInR5cCIgOiAiSldUIiwia2lkIiA6ICJGRVZ0dExTTDdYMU9pOE5BcmcxU25tN1lRZWVSODc4N3dwTDdwdzJJeE9NIn0.eyJleHAiOjE2NDc0MDc2NDAsImlhdCI6MTY0NzQwNzA0MCwianRpIjoiMWRlNDE1MDQtYThiMi00YWYxLWEzYzgtODUyZTlmNTZkZjA1IiwiaXNzIjoiaHR0cDovL2tleWNsb2FrOjgwODAvYXV0aC9yZWFsbXMvc3VuYmlyZC1yYyIsImF1ZCI6ImFjY291bnQiLCJzdWIiOiIzN2QwMmM2ZS1jNzllLTQ0YTktYWMzZi03YmNlY2Y5MjBmZTkiLCJ0eXAiOiJCZWFyZXIiLCJhenAiOiJyZWdpc3RyeS1mcm9udGVuZCIsInNlc3Npb25fc3RhdGUiOiI1YzBlNWUyNS1hMDIwLTRiODctYTk4MS00ODdkYzNlYTg4NDciLCJhY3IiOiIxIiwiYWxsb3dlZC1vcmlnaW5zIjpbImh0dHBzOi8vbG9jYWxob3N0OjQyMDIiLCJodHRwOi8vbG9jYWxob3N0OjQyMDIiLCJodHRwczovL2xvY2FsaG9zdDo0MjAwIiwiaHR0cHM6Ly9uZGVhci54aXYuaW4iLCJodHRwOi8vbG9jYWxob3N0OjQyMDAiLCJodHRwOi8vbmRlYXIueGl2LmluIiwiaHR0cDovLzIwLjE5OC42NC4xMjgiXSwicmVhbG1fYWNjZXNzIjp7InJvbGVzIjpbIm9mZmxpbmVfYWNjZXNzIiwidW1hX2F1dGhvcml6YXRpb24iLCJkZWZhdWx0LXJvbGVzLW5kZWFyIl19LCJyZXNvdXJjZV9hY2Nlc3MiOnsiYWNjb3VudCI6eyJyb2xlcyI6WyJtYW5hZ2UtYWNjb3VudCIsIm1hbmFnZS1hY2NvdW50LWxpbmtzIiwidmlldy1wcm9maWxlIl19fSwic2NvcGUiOiJwcm9maWxlIGVtYWlsIiwiZW1haWxfdmVyaWZpZWQiOmZhbHNlLCJwcmVmZXJyZWRfdXNlcm5hbWUiOiJzNSIsImVudGl0eSI6WyJTdHVkZW50Il0sImVtYWlsIjoiczVAZy5jb20ifQ.XuAZG7oCWvGpkPHjLslduRxOVZVit6Cwa7TrEA6W-MaBvTt7DCiRCOM207FiWKvOFPMTAne9SvBfLep4mU7rtOsvZOcsAuFxXdFgSApPJPyQexapkjtEqDNgmM2WW1e8Y1KrBiA7_mJRZYdA8aauJPHs8BwPL8hbM9in8vhxp0-5S8N6KYXO53n7cceccAAsTPvxDLSinIe-qLtwN181IQSJv6A1spCizhLxrUjzp15IJ32hgVOyGDSk3QIhO7znyjrV9mym3uBtMMXl0loyNfMqOIY8XjRjwDsNWqGrrPP8RqbMPWXTE3akk54YH8Wo6TXrKbS_pmopCIBpI7nZIg\n"
     ]
    }
   ],
   "source": [
    "studentToken = getToken(studentUserId)\n",
    "print(studentToken)"
   ]
  },
  {
   "cell_type": "code",
   "execution_count": null,
   "id": "fa0768fa",
   "metadata": {},
   "outputs": [
    {
     "name": "stdout",
     "output_type": "stream",
     "text": [
      "[{\"educationDetails\":[{\"osid\":\"1-672eef11-c0e3-4c09-a599-3d628d0be8d9\",\"instituteOSID\":\"1-416a394f-5e8a-4432-ad80-597257209e79\",\"instituteName\":\"XYZ\"}],\"contactDetails\":{\"osid\":\"1-39a0faca-d612-4f2a-a5c9-4089e380e108\",\"mobile\":\"s5\",\"email\":\"s5@g.com\"},\"osid\":\"1-f89b0b11-9032-409a-8534-9ff344d06eca\",\"identityDetails\":{\"osid\":\"1-4238990a-bf61-462c-841a-6df5f6c38dcc\",\"identityHolder\":{\"osid\":\"1-f592308c-90e3-4755-9664-51f5709a0b7a\",\"AADHAAR\":\"123412323\"},\"gender\":\"Male\",\"dob\":\"1995-10-28\",\"fullName\":\"student1\"},\"osOwner\":[\"37d02c6e-c79e-44a9-ac3f-7bcecf920fe9\"]}]\n",
      "1-672eef11-c0e3-4c09-a599-3d628d0be8d9\n"
     ]
    }
   ],
   "source": [
    "# get student details\n",
    "headers = {\n",
    "  'Content-Type': 'application/json',\n",
    "    'Authorization': 'bearer %s'%studentToken,\n",
    "}\n",
    "\n",
    "response = requests.request(\"GET\", baseUrl + \"Student\", headers=headers)\n",
    "\n",
    "print(response.text)\n",
    "assert response.status_code == 200\n",
    "print(response.json()[0][\"educationDetails\"][0][\"osid\"])\n",
    "educationDetailsOsid = response.json()[0][\"educationDetails\"][0][\"osid\"]"
   ]
  },
  {
   "cell_type": "code",
   "execution_count": null,
   "id": "da089e8d",
   "metadata": {},
   "outputs": [],
   "source": []
  },
  {
   "cell_type": "code",
   "execution_count": null,
   "id": "103655ed",
   "metadata": {},
   "outputs": [
    {
     "name": "stdout",
     "output_type": "stream",
     "text": [
      "200\n",
      "{'id': 'sunbird-rc.registry.send', 'ver': '1.0', 'ets': 1647407043398, 'params': {'resmsgid': '', 'msgid': 'ebe47837-98b3-44b4-9c92-81c9f025f43f', 'err': '', 'status': 'SUCCESSFUL', 'errmsg': ''}, 'responseCode': 'OK', 'result': {'attestationOSID': '1-85f67859-685b-4380-8379-3f8dad1dd17f'}}\n"
     ]
    }
   ],
   "source": [
    "# raise qualification attestation request\n",
    "headers = {\n",
    "    'content-type': 'application/json',\n",
    "    'authorization': 'bearer %s'%studentToken,\n",
    "}\n",
    "\n",
    "data = {\n",
    "    \"entityName\":\"Student\",\n",
    "    \"entityId\":\"%s\"%studentOsid,\n",
    "    \"name\":\"studentInstituteAttest\",\n",
    "    \"propertiesOSID\": {\n",
    "        \"educationDetails\": [educationDetailsOsid]\n",
    "    }\n",
    "}\n",
    "response = requests.put(baseUrl+'send', headers=headers, json=data)\n",
    "print(response.status_code)\n",
    "response.json()\n",
    "assert response.status_code == 200\n",
    "print(response.json())\n",
    "assert response.json()[\"params\"][\"status\"] == \"SUCCESSFUL\"\n"
   ]
  },
  {
   "cell_type": "code",
   "execution_count": null,
   "id": "8e71173c",
   "metadata": {},
   "outputs": [
    {
     "name": "stdout",
     "output_type": "stream",
     "text": [
      "eyJhbGciOiJSUzI1NiIsInR5cCIgOiAiSldUIiwia2lkIiA6ICJGRVZ0dExTTDdYMU9pOE5BcmcxU25tN1lRZWVSODc4N3dwTDdwdzJJeE9NIn0.eyJleHAiOjE2NDc0MDc2NDYsImlhdCI6MTY0NzQwNzA0NiwianRpIjoiNTg4M2EzNjYtM2E4My00YmI4LTk5Y2QtY2FlODdjOWQxNDExIiwiaXNzIjoiaHR0cDovL2tleWNsb2FrOjgwODAvYXV0aC9yZWFsbXMvc3VuYmlyZC1yYyIsImF1ZCI6ImFjY291bnQiLCJzdWIiOiJkOTczZWVjOC0wM2FmLTRkNmUtODVhZC02ZDI3ZWY0ODYxOTkiLCJ0eXAiOiJCZWFyZXIiLCJhenAiOiJyZWdpc3RyeS1mcm9udGVuZCIsInNlc3Npb25fc3RhdGUiOiJmNDNiZTQxOS1jYWI3LTQ5YzYtYTdiOS0xN2ZkMzllMzMxMTgiLCJhY3IiOiIxIiwiYWxsb3dlZC1vcmlnaW5zIjpbImh0dHBzOi8vbG9jYWxob3N0OjQyMDIiLCJodHRwOi8vbG9jYWxob3N0OjQyMDIiLCJodHRwczovL2xvY2FsaG9zdDo0MjAwIiwiaHR0cHM6Ly9uZGVhci54aXYuaW4iLCJodHRwOi8vbG9jYWxob3N0OjQyMDAiLCJodHRwOi8vbmRlYXIueGl2LmluIiwiaHR0cDovLzIwLjE5OC42NC4xMjgiXSwicmVhbG1fYWNjZXNzIjp7InJvbGVzIjpbIm9mZmxpbmVfYWNjZXNzIiwidW1hX2F1dGhvcml6YXRpb24iLCJkZWZhdWx0LXJvbGVzLW5kZWFyIl19LCJyZXNvdXJjZV9hY2Nlc3MiOnsiYWNjb3VudCI6eyJyb2xlcyI6WyJtYW5hZ2UtYWNjb3VudCIsIm1hbmFnZS1hY2NvdW50LWxpbmtzIiwidmlldy1wcm9maWxlIl19fSwic2NvcGUiOiJwcm9maWxlIGVtYWlsIiwiZW1haWxfdmVyaWZpZWQiOmZhbHNlLCJwcmVmZXJyZWRfdXNlcm5hbWUiOiJ0NyIsImVudGl0eSI6WyJUZWFjaGVyIl0sImVtYWlsIjoidDdAZy5jb20ifQ.oAcuUQrEbxdz4gqE2mSp-9v77xWzAu5EvtY9fZCswjY3KHZi-deQVLdkB977gWqOGxpedT-rHH-rQRojeZubh4tsR5gjuqyH3xXxyIj1Buw26f3mYSrD3aszaBaEkR0pdsg2XNCsBQZjn_3XV3_GzBicRlVa5PMbFmLv95lkePMNLHJJEW8O1xLHa93Ll07VIgSoOpORZuOrY9ectZVDuhG2moe7h1h2spcSkmVAUpR2is_Kf3XicblXFyOUj9VuUzvL-gUPob3izt2iaafDrNKHf8n0qiuGEthi7xHKwbtHT9u3x7hKQNLSSMNipRT0lO99HK5zpdvesdUYw4YotA\n",
      "<Response [200]>\n",
      "[{'id': '3bcff842-1c8a-45dc-b42a-78655fd0a8dc', 'entity': 'Student', 'entityId': '1-f89b0b11-9032-409a-8534-9ff344d06eca', 'propertyURI': '', 'createdAt': '2022-03-16T05:04:03.568+00:00', 'attestedOn': None, 'status': 'OPEN', 'conditions': \"(ATTESTOR#$.experience.[*].instituteOSID#.contains('1-416a394f-5e8a-4432-ad80-597257209e79'))\", 'attestorEntity': 'Teacher', 'requestorName': None, 'propertyData': '{\"name\":\"student1\",\"educationDetails\":[{\"osid\":\"1-672eef11-c0e3-4c09-a599-3d628d0be8d9\",\"instituteOSID\":\"1-416a394f-5e8a-4432-ad80-597257209e79\",\"instituteName\":\"XYZ\"}]}', 'attestationId': '1-85f67859-685b-4380-8379-3f8dad1dd17f', 'attestationName': 'studentInstituteAttest', 'closed': False}]\n",
      "OPEN\n",
      "3bcff842-1c8a-45dc-b42a-78655fd0a8dc\n",
      "<Response [200]>\n",
      "{'resmsgid': '', 'msgid': '05a96b25-e538-4113-b1cc-219ba84a02a1', 'err': '', 'status': 'SUCCESSFUL', 'errmsg': ''}\n"
     ]
    }
   ],
   "source": [
    "# get teacher token\n",
    "teacherToken = getToken(teacherUserId)\n",
    "print(teacherToken)\n",
    "\n",
    "# get institute claims and grant the claim\n",
    "headers = {\n",
    "  'Content-Type': 'application/json',\n",
    "    'Authorization': 'bearer %s'%teacherToken,\n",
    "}\n",
    "\n",
    "response = requests.request(\"GET\", baseUrl + \"Teacher/claims\", headers=headers)\n",
    "assert response.status_code == 200\n",
    "print(response)\n",
    "\n",
    "# Attesting the claim as GRANT\n",
    "data = {\n",
    "    \"action\":\"GRANT_CLAIM\",\n",
    "}\n",
    "print(response.json())\n",
    "attestingClaimId = None\n",
    "for claim in response.json():\n",
    "#     print(claim)\n",
    "    print(claim[\"status\"])\n",
    "    if claim[\"status\"] == \"OPEN\":\n",
    "        attestingClaimId = claim[\"id\"]\n",
    "        print(claim[\"id\"])\n",
    "        attestResp = requests.request(\"POST\", \"%sTeacher/claims/%s/attest\" %(baseUrl, claim[\"id\"]), headers=headers, json=data)\n",
    "        assert response.status_code == 200\n",
    "        print(attestResp)\n",
    "        print(attestResp.json())\n",
    "        break\n",
    "assert attestingClaimId != None"
   ]
  },
  {
   "cell_type": "code",
   "execution_count": null,
   "id": "35071076",
   "metadata": {},
   "outputs": [
    {
     "name": "stdout",
     "output_type": "stream",
     "text": [
      "{'entityName': 'Student', '_osState': 'PUBLISHED', 'name': 'studentInstituteAttest', 'entityId': '1-f89b0b11-9032-409a-8534-9ff344d06eca', 'osid': '1-85f67859-685b-4380-8379-3f8dad1dd17f', '_osAttestedData': '{\"name\":\"student1\",\"educationDetails\":[{\"osid\":\"1-672eef11-c0e3-4c09-a599-3d628d0be8d9\",\"instituteOSID\":\"1-416a394f-5e8a-4432-ad80-597257209e79\",\"instituteName\":\"XYZ\"}]}', 'propertiesOSID': {'osid': '1-bf5121c6-754c-4ddd-aaad-3455bab06d70', 'educationDetails': ['1-672eef11-c0e3-4c09-a599-3d628d0be8d9']}, '_osClaimId': '3bcff842-1c8a-45dc-b42a-78655fd0a8dc', 'propertyData': '{\"name\":\"student1\",\"educationDetails\":[{\"osid\":\"1-672eef11-c0e3-4c09-a599-3d628d0be8d9\",\"instituteOSID\":\"1-416a394f-5e8a-4432-ad80-597257209e79\",\"instituteName\":\"XYZ\"}]}'}\n"
     ]
    }
   ],
   "source": [
    "\n",
    "import time\n",
    "time.sleep(1)\n",
    "# verify attestation status\n",
    "headers = {\n",
    "  'Content-Type': 'application/json',\n",
    "    'Authorization': 'bearer %s'%studentToken,\n",
    "}\n",
    "\n",
    "response = requests.request(\"GET\", baseUrl + \"Student\", headers=headers)\n",
    "\n",
    "\n",
    "for affiliation in response.json()[0][\"studentInstituteAttest\"]:\n",
    "    print(affiliation)\n",
    "    if affiliation[\"_osClaimId\"] == attestingClaimId:\n",
    "        assert affiliation[\"_osState\"] == \"PUBLISHED\""
   ]
  },
  {
   "cell_type": "code",
   "execution_count": null,
   "id": "22953353",
   "metadata": {},
   "outputs": [],
   "source": []
  }
 ],
 "metadata": {
  "kernelspec": {
   "display_name": "Python 3 (ipykernel)",
   "language": "python",
   "name": "python3"
  }
 },
 "nbformat": 4,
 "nbformat_minor": 5
}
